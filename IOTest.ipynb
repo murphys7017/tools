{
 "cells": [
  {
   "cell_type": "code",
   "execution_count": null,
   "metadata": {},
   "outputs": [],
   "source": [
    "import os\n",
    "class SysMain(object):\n",
    "    def __init__(self, *args, **kwargs):\n",
    "        self.config_file_path = kwargs.get('Config','Config.yml')\n",
    "        import yaml\n",
    "        with open('Config.yml', 'r', encoding='utf-8') as file:\n",
    "            self.config = yaml.load(file, Loader=yaml.FullLoader)\n",
    "    def generate_name_path_map(self,folder_paths):\n",
    "        pgo = {}\n",
    "        for folder_path in folder_paths:\n",
    "            for filepath,dirnames,filenames in os.walk(folder_path):\n",
    "                for filename in filenames:\n",
    "                    if filename.endswith('.lnk') or filename.endswith('.exe'):\n",
    "                        name = filename.split('.')[0]\n",
    "                        flg = not any(key in name or key == name for key in self.config['SystemPath']['Programs']['Exclude']['Name'].split(',')+self.config['SystemPath']['Programs']['Exclude']['Path'].split(','))\n",
    "                        if flg:\n",
    "                            pgo[name] = os.path.join(filepath, filename)\n",
    "        return pgo"
   ]
  },
  {
   "cell_type": "code",
   "execution_count": null,
   "metadata": {},
   "outputs": [],
   "source": [
    "from tools.tool_config import generate_tools_desc,tools_desc\n",
    "\n",
    "generate_tools_desc()"
   ]
  },
  {
   "cell_type": "code",
   "execution_count": null,
   "metadata": {},
   "outputs": [],
   "source": [
    "tools_desc"
   ]
  },
  {
   "cell_type": "code",
   "execution_count": null,
   "metadata": {},
   "outputs": [],
   "source": [
    "import yaml\n",
    "with open('Config.yml', 'r', encoding='utf-8') as file:\n",
    "    config = yaml.load(file, Loader=yaml.FullLoader)\n",
    "config"
   ]
  },
  {
   "cell_type": "code",
   "execution_count": null,
   "metadata": {},
   "outputs": [],
   "source": [
    "generate_tools_desc()"
   ]
  },
  {
   "cell_type": "code",
   "execution_count": 3,
   "metadata": {},
   "outputs": [
    {
     "name": "stderr",
     "output_type": "stream",
     "text": [
      "\u001b[32m2025-01-15 02:47:23.570\u001b[0m | \u001b[1mINFO    \u001b[0m | \u001b[36mollama_qw\u001b[0m:\u001b[36m__init__\u001b[0m:\u001b[36m12\u001b[0m - \u001b[1m[{'type': 'function', 'function': {'name': 'close_light', 'description': '关掉机箱的灯。', 'parameters': {'type': 'object', 'properties': {}, 'required': []}}}, {'type': 'function', 'function': {'name': 'open_light', 'description': '打开机箱的灯。', 'parameters': {'type': 'object', 'properties': {}, 'required': []}}}, {'type': 'function', 'function': {'name': 'run_software', 'description': '打开或者运行程序、软件、应用、脚本等。', 'parameters': {'type': 'object', 'properties': {'software_name': {'type': 'string', 'description': '需要打开、运行或者执行的软件程序或者脚本的名称', 'enum': ['Administrative Tools', 'File Explorer', 'Ollama', 'Sonic Suite Companion', 'WPS Office', 'LiveCaptions', 'Magnify', 'Narrator', 'On-Screen Keyboard', 'VoiceAccess', 'Blender 4', 'DirectX修复工具', 'GW-SOUL', 'Unwise', 'KOOK', 'LetsVPN', 'Overwolf', 'Valorant Tracker', 'Postman', 'Raspberry Pi Imager', 'OpenRGB', 'SakuraLauncher_8a49d589b8997c26e5fe8ca0c8308d23', 'Steam', 'Command Prompt', 'Control Panel', 'Run', 'Ubisoft Connect', 'Uplay', 'Install RELEASE (Ubuntu-22', 'WeMod', 'Windows PowerShell (x86)', 'Windows PowerShell', '小K直播姬', '百度网盘', '360安全卫士', '360安全防护中心', '7-Zip File Manager', 'Remote Desktop Connection', 'Steps Recorder', 'Windows Media Player Legacy', 'Character Map', 'Component Services', 'Computer Management', 'dfrgui', 'Disk Cleanup', 'Event Viewer', 'Hyper-V Manager', 'iSCSI Initiator', 'Memory Diagnostics Tool', 'ODBC Data Sources (32-bit)', 'ODBC Data Sources (64-bit)', 'Performance Monitor', 'Print Management', 'RecoveryDrive', 'Registry Editor', 'Resource Monitor', 'Security Configuration Management', 'services', 'System Configuration', 'System Information', 'Task Scheduler', 'VMCreate', 'Windows Defender Firewall with Advanced Security', 'CMake (cmake-gui)', 'CMake Documentation', 'CPU-Z', 'Edit CPU-Z Config File', 'DAREU Driver', 'DBeaver', '三角洲行动', 'App Recovery', 'EA app 更新程序', 'EA Error Reporter', 'EA Updater', 'EA', '无限暖暖', 'IntelliJ IDEA 2023', 'Live2D Cubism Editor 5', 'Live2D Cubism Viewer 5', 'Website', 'Logitech G HUB', 'Mouse without Borders', 'Anaconda Powershell Prompt (Miniconda)', 'Anaconda Prompt (Miniconda)', 'nvm', 'OBS Studio (64bit)', 'PotPlayer 64 bit', 'Riot Client', 'Riot客户端', 'VALORANT', 'SakuraFrp 启动器', 'Task Manager', 'ToDesk', 'Typora', 'Debuggable Package Manager', 'Developer Command Prompt for VS 2019', 'Developer PowerShell for VS 2019', 'x64 Native Tools Command Prompt for VS 2019', 'x64_x86 Cross Tools Command Prompt for VS 2019', 'x86 Native Tools Command Prompt for VS 2019', 'x86_x64 Cross Tools Command Prompt for VS 2019', 'Visual Studio Code', 'Windows PowerShell ISE (x86)', 'Windows PowerShell ISE', 'uninstall', '哔哩哔哩直播姬', '守望先锋', 'MiService', 'MIUI+', '尘白禁区', '微信', 'letsvpn -', '无畏契约', '暴雪战网', '网易云音乐', 'QQ', '腾讯QQ', 'QQ音乐', '听歌识曲', 'DingTalk Official Website', '钉钉']}}, 'required': ['software_name']}}}]\u001b[0m\n"
     ]
    }
   ],
   "source": [
    "from ollama_qw import OllamaQW\n",
    "qw = OllamaQW()"
   ]
  },
  {
   "cell_type": "code",
   "execution_count": 4,
   "metadata": {},
   "outputs": [
    {
     "name": "stderr",
     "output_type": "stream",
     "text": [
      "\u001b[32m2025-01-15 02:47:34.059\u001b[0m | \u001b[1mINFO    \u001b[0m | \u001b[36mollama_qw\u001b[0m:\u001b[36mchat\u001b[0m:\u001b[36m27\u001b[0m - \u001b[1minput message: {'role': 'user', 'content': '关了机箱灯'}\u001b[0m\n",
      "\u001b[32m2025-01-15 02:47:35.744\u001b[0m | \u001b[1mINFO    \u001b[0m | \u001b[36mollama_qw\u001b[0m:\u001b[36mollama_chat\u001b[0m:\u001b[36m21\u001b[0m - \u001b[1mmodel response is: model='qwen2.5:3b' created_at='2025-01-14T18:47:35.7439141Z' done=True done_reason='stop' total_duration=1683555500 load_duration=1086232800 prompt_eval_count=259 prompt_eval_duration=153000000 eval_count=16 eval_duration=174000000 message=Message(role='assistant', content='', images=None, tool_calls=[ToolCall(function=Function(name='close_light', arguments={}))])\u001b[0m\n",
      "\u001b[32m2025-01-15 02:47:35.745\u001b[0m | \u001b[1mINFO    \u001b[0m | \u001b[36mollama_qw\u001b[0m:\u001b[36mchat\u001b[0m:\u001b[36m35\u001b[0m - \u001b[1mfunction name: close_light\u001b[0m\n",
      "\u001b[32m2025-01-15 02:47:35.745\u001b[0m | \u001b[1mINFO    \u001b[0m | \u001b[36mollama_qw\u001b[0m:\u001b[36mchat\u001b[0m:\u001b[36m36\u001b[0m - \u001b[1mfunction args: {}\u001b[0m\n"
     ]
    },
    {
     "name": "stdout",
     "output_type": "stream",
     "text": [
      "\n",
      "执行cmd指令=\"\"C:\\Users\\Administrator\\Downloads\\OpenRGB_0.9_Windows_64_b5f46e3\\OpenRGB Windows 64-bit\\OpenRGB.exe\" --profile close\"\n"
     ]
    },
    {
     "name": "stderr",
     "output_type": "stream",
     "text": [
      "\u001b[32m2025-01-15 02:47:47.368\u001b[0m | \u001b[1mINFO    \u001b[0m | \u001b[36mollama_qw\u001b[0m:\u001b[36mchat\u001b[0m:\u001b[36m44\u001b[0m - \u001b[1mtool response is: {'role': 'tool', 'name': 'close_light', 'content': '\"\\\\u5173\\\\u4e86\"'}\u001b[0m\n",
      "\u001b[32m2025-01-15 02:47:47.495\u001b[0m | \u001b[1mINFO    \u001b[0m | \u001b[36mollama_qw\u001b[0m:\u001b[36mollama_chat\u001b[0m:\u001b[36m21\u001b[0m - \u001b[1mmodel response is: model='qwen2.5:3b' created_at='2025-01-14T18:47:47.4944185Z' done=True done_reason='stop' total_duration=124933900 load_duration=10500300 prompt_eval_count=304 prompt_eval_duration=6000000 eval_count=9 eval_duration=102000000 message=Message(role='assistant', content='机箱的灯已经关闭了。', images=None, tool_calls=None)\u001b[0m\n"
     ]
    },
    {
     "name": "stdout",
     "output_type": "stream",
     "text": [
      "Alice: 机箱的灯已经关闭了。\n"
     ]
    },
    {
     "name": "stderr",
     "output_type": "stream",
     "text": [
      "\u001b[32m2025-01-15 02:47:51.270\u001b[0m | \u001b[1mINFO    \u001b[0m | \u001b[36mollama_qw\u001b[0m:\u001b[36mchat\u001b[0m:\u001b[36m27\u001b[0m - \u001b[1minput message: {'role': 'user', 'content': '谢谢'}\u001b[0m\n",
      "\u001b[32m2025-01-15 02:47:51.416\u001b[0m | \u001b[1mINFO    \u001b[0m | \u001b[36mollama_qw\u001b[0m:\u001b[36mollama_chat\u001b[0m:\u001b[36m21\u001b[0m - \u001b[1mmodel response is: model='qwen2.5:3b' created_at='2025-01-14T18:47:51.4158669Z' done=True done_reason='stop' total_duration=145329500 load_duration=13418100 prompt_eval_count=323 prompt_eval_duration=4000000 eval_count=11 eval_duration=121000000 message=Message(role='assistant', content='不客气，如果还需要其他帮助，请告诉我。', images=None, tool_calls=None)\u001b[0m\n"
     ]
    },
    {
     "name": "stdout",
     "output_type": "stream",
     "text": [
      "Alice: 不客气，如果还需要其他帮助，请告诉我。\n"
     ]
    }
   ],
   "source": [
    "\n",
    "def main():\n",
    "    while True:\n",
    "        msg = input(\">: \")\n",
    "        if msg.lower() == 'exit':\n",
    "            break\n",
    "        res = qw.chat(msg)\n",
    "        print(f\"Alice: {res['content']}\")\n",
    "main()"
   ]
  },
  {
   "cell_type": "code",
   "execution_count": 3,
   "metadata": {},
   "outputs": [
    {
     "data": {
      "text/plain": [
       "'\"fn_res\"'"
      ]
     },
     "execution_count": 3,
     "metadata": {},
     "output_type": "execute_result"
    }
   ],
   "source": [
    "import json\n",
    "json.dumps(\"fn_res\")"
   ]
  }
 ],
 "metadata": {
  "kernelspec": {
   "display_name": "ai",
   "language": "python",
   "name": "python3"
  },
  "language_info": {
   "codemirror_mode": {
    "name": "ipython",
    "version": 3
   },
   "file_extension": ".py",
   "mimetype": "text/x-python",
   "name": "python",
   "nbconvert_exporter": "python",
   "pygments_lexer": "ipython3",
   "version": "3.13.1"
  }
 },
 "nbformat": 4,
 "nbformat_minor": 2
}
