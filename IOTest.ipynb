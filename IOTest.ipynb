{
 "cells": [
  {
   "cell_type": "code",
   "execution_count": 1,
   "metadata": {},
   "outputs": [
    {
     "name": "stderr",
     "output_type": "stream",
     "text": [
      "\u001b[32m2025-01-16 09:32:24.781\u001b[0m | \u001b[1mINFO    \u001b[0m | \u001b[36mollama_qw\u001b[0m:\u001b[36m__init__\u001b[0m:\u001b[36m12\u001b[0m - \u001b[1m[{'type': 'function', 'function': {'name': 'close_light', 'description': '关掉机箱的灯。', 'parameters': {'type': 'object', 'properties': {}, 'required': []}}}, {'type': 'function', 'function': {'name': 'open_light', 'description': '打开机箱的灯。', 'parameters': {'type': 'object', 'properties': {}, 'required': []}}}, {'type': 'function', 'function': {'name': 'run_software', 'description': '打开或者运行程序、软件、应用、脚本等。', 'parameters': {'type': 'object', 'properties': {'software_name': {'type': 'string', 'description': '需要打开或者运行的程序的简称或者别称，从enum中选择最相符的传入需要打开、运行或者执行的软件程序或者脚本的名称', 'enum': ['administrative tools', 'file explorer', 'ollama', 'sonic suite companion', 'wps office', 'livecaptions', 'magnify', 'narrator', 'on-screen keyboard', 'voiceaccess', 'blender 4', 'directx修复工具', 'gw-soul', 'unwise', 'kook', 'letsvpn', 'overwolf', 'valorant tracker', 'postman', 'raspberry pi imager', 'openrgb', 'sakuralauncher_8a49d589b8997c26e5fe8ca0c8308d23', 'steam', 'command prompt', 'control panel', 'run', 'ubisoft connect', 'uplay', 'install release (ubuntu-22', 'wemod', 'windows powershell (x86)', 'windows powershell', '小k直播姬', '百度网盘', '360安全卫士', '360安全防护中心', '7-zip file manager', 'remote desktop connection', 'steps recorder', 'windows media player legacy', 'character map', 'component services', 'computer management', 'dfrgui', 'disk cleanup', 'event viewer', 'hyper-v manager', 'iscsi initiator', 'memory diagnostics tool', 'odbc data sources (32-bit)', 'odbc data sources (64-bit)', 'performance monitor', 'print management', 'recoverydrive', 'registry editor', 'resource monitor', 'security configuration management', 'services', 'system configuration', 'system information', 'task scheduler', 'vmcreate', 'windows defender firewall with advanced security', 'cmake (cmake-gui)', 'cmake documentation', 'cpu-z', 'edit cpu-z config file', 'dareu driver', 'dbeaver', '三角洲行动', 'app recovery', 'ea app 更新程序', 'ea error reporter', 'ea updater', 'ea', '无限暖暖', 'intellij idea 2023', 'live2d cubism editor 5', 'live2d cubism viewer 5', 'website', 'logitech g hub', 'mouse without borders', 'anaconda powershell prompt (miniconda)', 'anaconda prompt (miniconda)', 'nvm', 'obs studio (64bit)', 'potplayer 64 bit', 'riot client', 'riot客户端', 'valorant', 'sakurafrp 启动器', 'task manager', 'todesk', 'typora', 'debuggable package manager', 'developer command prompt for vs 2019', 'developer powershell for vs 2019', 'x64 native tools command prompt for vs 2019', 'x64_x86 cross tools command prompt for vs 2019', 'x86 native tools command prompt for vs 2019', 'x86_x64 cross tools command prompt for vs 2019', 'visual studio code', 'windows powershell ise (x86)', 'windows powershell ise', 'uninstall', '哔哩哔哩直播姬', '守望先锋', 'miservice', 'miui+', '尘白禁区', '微信', 'letsvpn -', '无畏契约', '暴雪战网', '网易云音乐', 'qq', '腾讯qq', 'qq音乐', '听歌识曲', 'dingtalk official website', '钉钉']}}, 'required': ['software_name']}}}]\u001b[0m\n"
     ]
    }
   ],
   "source": [
    "from ollama_qw import OllamaQW\n",
    "qw = OllamaQW()"
   ]
  },
  {
   "cell_type": "code",
   "execution_count": 2,
   "metadata": {},
   "outputs": [
    {
     "name": "stderr",
     "output_type": "stream",
     "text": [
      "\u001b[32m2025-01-16 09:32:33.858\u001b[0m | \u001b[1mINFO    \u001b[0m | \u001b[36mollama_qw\u001b[0m:\u001b[36mchat\u001b[0m:\u001b[36m27\u001b[0m - \u001b[1minput message: {'role': 'user', 'content': '打开cpuz'}\u001b[0m\n",
      "\u001b[32m2025-01-16 09:32:34.067\u001b[0m | \u001b[1mINFO    \u001b[0m | \u001b[36mollama_qw\u001b[0m:\u001b[36mollama_chat\u001b[0m:\u001b[36m21\u001b[0m - \u001b[1mmodel response is: model='qwen2.5:3b' created_at='2025-01-16T01:32:34.0660627Z' done=True done_reason='stop' total_duration=205175200 load_duration=11000900 prompt_eval_count=278 prompt_eval_duration=3000000 eval_count=23 eval_duration=188000000 message=Message(role='assistant', content='', images=None, tool_calls=[ToolCall(function=Function(name='run_software', arguments={'software_name': 'cpuz'}))])\u001b[0m\n",
      "\u001b[32m2025-01-16 09:32:34.067\u001b[0m | \u001b[1mINFO    \u001b[0m | \u001b[36mollama_qw\u001b[0m:\u001b[36mchat\u001b[0m:\u001b[36m35\u001b[0m - \u001b[1mfunction name: run_software\u001b[0m\n",
      "\u001b[32m2025-01-16 09:32:34.068\u001b[0m | \u001b[1mINFO    \u001b[0m | \u001b[36mollama_qw\u001b[0m:\u001b[36mchat\u001b[0m:\u001b[36m36\u001b[0m - \u001b[1mfunction args: {'software_name': 'cpuz'}\u001b[0m\n",
      "\u001b[32m2025-01-16 09:32:34.117\u001b[0m | \u001b[1mINFO    \u001b[0m | \u001b[36mollama_qw\u001b[0m:\u001b[36mchat\u001b[0m:\u001b[36m44\u001b[0m - \u001b[1mtool response is: {'role': 'tool', 'name': 'run_software', 'content': '{\"status\": 200, \"message\": \"\\\\u7a0b\\\\u5e8f\\\\u5df2\\\\u542f\\\\u52a8\"}'}\u001b[0m\n",
      "\u001b[32m2025-01-16 09:32:34.278\u001b[0m | \u001b[1mINFO    \u001b[0m | \u001b[36mollama_qw\u001b[0m:\u001b[36mollama_chat\u001b[0m:\u001b[36m21\u001b[0m - \u001b[1mmodel response is: model='qwen2.5:3b' created_at='2025-01-16T01:32:34.2770959Z' done=True done_reason='stop' total_duration=158013000 load_duration=11001900 prompt_eval_count=354 prompt_eval_duration=5000000 eval_count=17 eval_duration=138000000 message=Message(role='assistant', content='成功启动了CPZ，你可以开始使用它来查看CPU信息了。', images=None, tool_calls=None)\u001b[0m\n"
     ]
    },
    {
     "name": "stdout",
     "output_type": "stream",
     "text": [
      "Alice: 成功启动了CPZ，你可以开始使用它来查看CPU信息了。\n"
     ]
    },
    {
     "name": "stderr",
     "output_type": "stream",
     "text": [
      "\u001b[32m2025-01-16 09:33:00.313\u001b[0m | \u001b[1mINFO    \u001b[0m | \u001b[36mollama_qw\u001b[0m:\u001b[36mchat\u001b[0m:\u001b[36m27\u001b[0m - \u001b[1minput message: {'role': 'user', 'content': '谢谢你'}\u001b[0m\n",
      "\u001b[32m2025-01-16 09:33:00.424\u001b[0m | \u001b[1mINFO    \u001b[0m | \u001b[36mollama_qw\u001b[0m:\u001b[36mollama_chat\u001b[0m:\u001b[36m21\u001b[0m - \u001b[1mmodel response is: model='qwen2.5:3b' created_at='2025-01-16T01:33:00.4232529Z' done=True done_reason='stop' total_duration=108506200 load_duration=12001100 prompt_eval_count=381 prompt_eval_duration=4000000 eval_count=10 eval_duration=84000000 message=Message(role='assistant', content='不客气，请问接下来有什么可以帮助你的？', images=None, tool_calls=None)\u001b[0m\n"
     ]
    },
    {
     "name": "stdout",
     "output_type": "stream",
     "text": [
      "Alice: 不客气，请问接下来有什么可以帮助你的？\n"
     ]
    },
    {
     "name": "stderr",
     "output_type": "stream",
     "text": [
      "\u001b[32m2025-01-16 09:33:11.500\u001b[0m | \u001b[1mINFO    \u001b[0m | \u001b[36mollama_qw\u001b[0m:\u001b[36mchat\u001b[0m:\u001b[36m27\u001b[0m - \u001b[1minput message: {'role': 'user', 'content': ''}\u001b[0m\n",
      "\u001b[32m2025-01-16 09:33:11.718\u001b[0m | \u001b[1mINFO    \u001b[0m | \u001b[36mollama_qw\u001b[0m:\u001b[36mollama_chat\u001b[0m:\u001b[36m21\u001b[0m - \u001b[1mmodel response is: model='qwen2.5:3b' created_at='2025-01-16T01:33:11.7173688Z' done=True done_reason='stop' total_duration=215066900 load_duration=10499100 prompt_eval_count=400 prompt_eval_duration=8000000 eval_count=23 eval_duration=185000000 message=Message(role='assistant', content='目前没有其他帮助的请求了。如果你需要更多关于CPZ的信息或者其他的帮助，请告诉我！\\n', images=None, tool_calls=None)\u001b[0m\n"
     ]
    },
    {
     "name": "stdout",
     "output_type": "stream",
     "text": [
      "Alice: 目前没有其他帮助的请求了。如果你需要更多关于CPZ的信息或者其他的帮助，请告诉我！\n",
      "\n"
     ]
    },
    {
     "name": "stderr",
     "output_type": "stream",
     "text": [
      "\u001b[32m2025-01-16 09:33:16.628\u001b[0m | \u001b[1mINFO    \u001b[0m | \u001b[36mollama_qw\u001b[0m:\u001b[36mchat\u001b[0m:\u001b[36m27\u001b[0m - \u001b[1minput message: {'role': 'user', 'content': 'exit'}\u001b[0m\n",
      "\u001b[32m2025-01-16 09:33:16.867\u001b[0m | \u001b[1mINFO    \u001b[0m | \u001b[36mollama_qw\u001b[0m:\u001b[36mollama_chat\u001b[0m:\u001b[36m21\u001b[0m - \u001b[1mmodel response is: model='qwen2.5:3b' created_at='2025-01-16T01:33:16.8668564Z' done=True done_reason='stop' total_duration=236999700 load_duration=13002900 prompt_eval_count=433 prompt_eval_duration=4000000 eval_count=25 eval_duration=205000000 message=Message(role='assistant', content='已经为您准备好了，如果您有任何问题或需要进一步的帮助，请随时联系我。祝您有一个愉快的一天！', images=None, tool_calls=None)\u001b[0m\n"
     ]
    },
    {
     "name": "stdout",
     "output_type": "stream",
     "text": [
      "Alice: 已经为您准备好了，如果您有任何问题或需要进一步的帮助，请随时联系我。祝您有一个愉快的一天！\n"
     ]
    }
   ],
   "source": [
    "\n",
    "def main():\n",
    "    while True:\n",
    "        msg = input(\">: \")\n",
    "        if msg.lower() == '/exit':\n",
    "            break\n",
    "        res = qw.chat(msg)\n",
    "        print(f\"Alice: {res['content']}\")\n",
    "main()"
   ]
  },
  {
   "cell_type": "code",
   "execution_count": 3,
   "metadata": {},
   "outputs": [],
   "source": [
    "import sys\n",
    "from PyQt5.QtCore import Qt\n",
    "from PyQt5.QtWidgets import QApplication, QMainWindow, QTextEdit, QLineEdit, QVBoxLayout, QWidget, QSizePolicy\n",
    "\n",
    "\n",
    "class TransparentTerminal(QMainWindow):\n",
    "    def __init__(self):\n",
    "        super().__init__()\n",
    "\n",
    "        self.setWindowTitle(\"自定义终端\")\n",
    "        self.setGeometry(100, 100, 600, 400)\n",
    "\n",
    "        # 设置主窗口\n",
    "        self.central_widget = QWidget(self)\n",
    "        self.setCentralWidget(self.central_widget)\n",
    "\n",
    "        # 创建文本框，显示终端内容\n",
    "        self.text_display = QTextEdit(self)\n",
    "        self.text_display.setReadOnly(True)\n",
    "        self.text_display.setStyleSheet(\"background-color: transparent; color: black;\")\n",
    "\n",
    "        # 创建输入框\n",
    "        self.input_box = QLineEdit(self)\n",
    "        self.input_box.setPlaceholderText(\"输入命令...\")\n",
    "        self.input_box.setStyleSheet(\"background-color: transparent; color: black;\")\n",
    "\n",
    "        # 创建布局并添加控件\n",
    "        self.layout = QVBoxLayout(self.central_widget)\n",
    "        self.layout.addWidget(self.text_display)\n",
    "        self.layout.addWidget(self.input_box)\n",
    "\n",
    "        # 设置输入框大小策略\n",
    "        self.input_box.setSizePolicy(QSizePolicy.Expanding, QSizePolicy.Fixed)\n",
    "\n",
    "        # 连接输入框事件\n",
    "        self.input_box.returnPressed.connect(self.handle_input)\n",
    "\n",
    "    def handle_input(self):\n",
    "        command = self.input_box.text().strip()\n",
    "        self.text_display.append(f\"> {command}\")  # 在文本框中显示输入的命令\n",
    "        self.input_box.clear()\n",
    "\n",
    "        # 处理命令\n",
    "        if command == \"exit\":\n",
    "            self.text_display.append(\"退出终端...\")\n",
    "            self.close()\n",
    "        elif command == \"hello\":\n",
    "            self.text_display.append(\"你好，欢迎来到自定义终端！\")\n",
    "        else:\n",
    "            self.text_display.append(f\"未知命令: {command}\")\n",
    "\n",
    "\n",
    "def main():\n",
    "    app = QApplication(sys.argv)\n",
    "    terminal = TransparentTerminal()\n",
    "    terminal.show()\n",
    "    app.exec_()\n",
    "\n",
    "\n",
    "\n",
    "main()\n"
   ]
  },
  {
   "cell_type": "code",
   "execution_count": 20,
   "metadata": {},
   "outputs": [
    {
     "data": {
      "text/plain": [
       "7"
      ]
     },
     "execution_count": 20,
     "metadata": {},
     "output_type": "execute_result"
    }
   ],
   "source": [
    "len([\"Alice: 欢迎回来，Yakumo\", \"1\",\"2\",\"3\",\"4\",\"5\",\"6\"])"
   ]
  }
 ],
 "metadata": {
  "kernelspec": {
   "display_name": "ai",
   "language": "python",
   "name": "python3"
  },
  "language_info": {
   "codemirror_mode": {
    "name": "ipython",
    "version": 3
   },
   "file_extension": ".py",
   "mimetype": "text/x-python",
   "name": "python",
   "nbconvert_exporter": "python",
   "pygments_lexer": "ipython3",
   "version": "3.13.1"
  }
 },
 "nbformat": 4,
 "nbformat_minor": 2
}
