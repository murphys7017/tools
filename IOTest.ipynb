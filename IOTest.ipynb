{
 "cells": [
  {
   "cell_type": "code",
   "execution_count": null,
   "metadata": {},
   "outputs": [],
   "source": [
    "import os\n",
    "class SysMain(object):\n",
    "    def __init__(self, *args, **kwargs):\n",
    "        self.config_file_path = kwargs.get('Config','Config.yml')\n",
    "        import yaml\n",
    "        with open('Config.yml', 'r', encoding='utf-8') as file:\n",
    "            self.config = yaml.load(file, Loader=yaml.FullLoader)\n",
    "    def generate_name_path_map(self,folder_paths):\n",
    "        pgo = {}\n",
    "        for folder_path in folder_paths:\n",
    "            for filepath,dirnames,filenames in os.walk(folder_path):\n",
    "                for filename in filenames:\n",
    "                    if filename.endswith('.lnk') or filename.endswith('.exe'):\n",
    "                        name = filename.split('.')[0]\n",
    "                        flg = not any(key in name or key == name for key in self.config['SystemPath']['Programs']['Exclude']['Name'].split(',')+self.config['SystemPath']['Programs']['Exclude']['Path'].split(','))\n",
    "                        if flg:\n",
    "                            pgo[name] = os.path.join(filepath, filename)\n",
    "        return pgo"
   ]
  },
  {
   "cell_type": "code",
   "execution_count": null,
   "metadata": {},
   "outputs": [],
   "source": [
    "from tools.tool_config import generate_tools_desc,tools_desc\n",
    "\n",
    "generate_tools_desc()"
   ]
  },
  {
   "cell_type": "code",
   "execution_count": null,
   "metadata": {},
   "outputs": [],
   "source": [
    "tools_desc"
   ]
  },
  {
   "cell_type": "code",
   "execution_count": null,
   "metadata": {},
   "outputs": [],
   "source": [
    "import yaml\n",
    "with open('Config.yml', 'r', encoding='utf-8') as file:\n",
    "    config = yaml.load(file, Loader=yaml.FullLoader)\n",
    "config"
   ]
  },
  {
   "cell_type": "code",
   "execution_count": 6,
   "metadata": {},
   "outputs": [
    {
     "data": {
      "text/plain": [
       "[{'type': 'function',\n",
       "  'function': {'name': 'close_light',\n",
       "   'description': '关掉机箱的灯。',\n",
       "   'parameters': {'type': 'object', 'properties': {}, 'required': []}}},\n",
       " {'type': 'function',\n",
       "  'function': {'name': 'open_light',\n",
       "   'description': '打开机箱的灯。',\n",
       "   'parameters': {'type': 'object', 'properties': {}, 'required': []}}},\n",
       " {'type': 'function',\n",
       "  'function': {'name': 'run_software',\n",
       "   'description': '根据给出的名称去运行指定的程序软件或者脚本等可执行的。',\n",
       "   'parameters': {'type': 'object',\n",
       "    'properties': {'software_name': {'type': 'string',\n",
       "      'description': '需要运行或者执行的软件程序或者脚本的名称',\n",
       "      'enum': ['Administrative Tools',\n",
       "       'File Explorer',\n",
       "       'Ollama',\n",
       "       'Sonic Suite Companion',\n",
       "       'WPS Office',\n",
       "       'LiveCaptions',\n",
       "       'Magnify',\n",
       "       'Narrator',\n",
       "       'On-Screen Keyboard',\n",
       "       'VoiceAccess',\n",
       "       'Blender 4',\n",
       "       'DirectX修复工具',\n",
       "       'GW-SOUL',\n",
       "       'Unwise',\n",
       "       'KOOK',\n",
       "       'LetsVPN',\n",
       "       'Overwolf',\n",
       "       'Valorant Tracker',\n",
       "       'Postman',\n",
       "       'Raspberry Pi Imager',\n",
       "       'OpenRGB',\n",
       "       'SakuraLauncher_8a49d589b8997c26e5fe8ca0c8308d23',\n",
       "       'Steam',\n",
       "       'Command Prompt',\n",
       "       'Control Panel',\n",
       "       'Run',\n",
       "       'Ubisoft Connect',\n",
       "       'Uplay',\n",
       "       'Install RELEASE (Ubuntu-22',\n",
       "       'WeMod',\n",
       "       'Windows PowerShell (x86)',\n",
       "       'Windows PowerShell',\n",
       "       '小K直播姬',\n",
       "       '百度网盘',\n",
       "       '360安全卫士',\n",
       "       '360安全防护中心',\n",
       "       '7-Zip File Manager',\n",
       "       'Remote Desktop Connection',\n",
       "       'Steps Recorder',\n",
       "       'Windows Media Player Legacy',\n",
       "       'Character Map',\n",
       "       'Component Services',\n",
       "       'Computer Management',\n",
       "       'dfrgui',\n",
       "       'Disk Cleanup',\n",
       "       'Event Viewer',\n",
       "       'Hyper-V Manager',\n",
       "       'iSCSI Initiator',\n",
       "       'Memory Diagnostics Tool',\n",
       "       'ODBC Data Sources (32-bit)',\n",
       "       'ODBC Data Sources (64-bit)',\n",
       "       'Performance Monitor',\n",
       "       'Print Management',\n",
       "       'RecoveryDrive',\n",
       "       'Registry Editor',\n",
       "       'Resource Monitor',\n",
       "       'Security Configuration Management',\n",
       "       'services',\n",
       "       'System Configuration',\n",
       "       'System Information',\n",
       "       'Task Scheduler',\n",
       "       'VMCreate',\n",
       "       'Windows Defender Firewall with Advanced Security',\n",
       "       'CMake (cmake-gui)',\n",
       "       'CMake Documentation',\n",
       "       'CPU-Z',\n",
       "       'Edit CPU-Z Config File',\n",
       "       'DAREU Driver',\n",
       "       'DBeaver',\n",
       "       '三角洲行动',\n",
       "       'App Recovery',\n",
       "       'EA app 更新程序',\n",
       "       'EA Error Reporter',\n",
       "       'EA Updater',\n",
       "       'EA',\n",
       "       '无限暖暖',\n",
       "       'IntelliJ IDEA 2023',\n",
       "       'Live2D Cubism Editor 5',\n",
       "       'Live2D Cubism Viewer 5',\n",
       "       'Website',\n",
       "       'Logitech G HUB',\n",
       "       'Mouse without Borders',\n",
       "       'Anaconda Powershell Prompt (Miniconda)',\n",
       "       'Anaconda Prompt (Miniconda)',\n",
       "       'nvm',\n",
       "       'OBS Studio (64bit)',\n",
       "       'PotPlayer 64 bit',\n",
       "       'Riot Client',\n",
       "       'Riot客户端',\n",
       "       'VALORANT',\n",
       "       'SakuraFrp 启动器',\n",
       "       'Task Manager',\n",
       "       'ToDesk',\n",
       "       'Typora',\n",
       "       'Debuggable Package Manager',\n",
       "       'Developer Command Prompt for VS 2019',\n",
       "       'Developer PowerShell for VS 2019',\n",
       "       'x64 Native Tools Command Prompt for VS 2019',\n",
       "       'x64_x86 Cross Tools Command Prompt for VS 2019',\n",
       "       'x86 Native Tools Command Prompt for VS 2019',\n",
       "       'x86_x64 Cross Tools Command Prompt for VS 2019',\n",
       "       'Visual Studio Code',\n",
       "       'Windows PowerShell ISE (x86)',\n",
       "       'Windows PowerShell ISE',\n",
       "       'uninstall',\n",
       "       '哔哩哔哩直播姬',\n",
       "       '守望先锋',\n",
       "       'MiService',\n",
       "       'MIUI+',\n",
       "       '尘白禁区',\n",
       "       '微信',\n",
       "       'letsvpn -',\n",
       "       '无畏契约',\n",
       "       '暴雪战网',\n",
       "       '网易云音乐',\n",
       "       'QQ',\n",
       "       '腾讯QQ',\n",
       "       'QQ音乐',\n",
       "       '听歌识曲',\n",
       "       'DingTalk Official Website',\n",
       "       '钉钉']}},\n",
       "    'required': ['software_name']}}}]"
      ]
     },
     "execution_count": 6,
     "metadata": {},
     "output_type": "execute_result"
    }
   ],
   "source": [
    "generate_tools_desc()"
   ]
  },
  {
   "cell_type": "code",
   "execution_count": null,
   "metadata": {},
   "outputs": [
    {
     "name": "stderr",
     "output_type": "stream",
     "text": [
      "\u001b[32m2025-01-15 02:15:36.214\u001b[0m | \u001b[1mINFO    \u001b[0m | \u001b[36mollama_qw\u001b[0m:\u001b[36m__init__\u001b[0m:\u001b[36m19\u001b[0m - \u001b[1m[{'type': 'function', 'function': {'name': 'close_light', 'description': '关掉机箱的灯。', 'parameters': {'type': 'object', 'properties': {}, 'required': []}}}, {'type': 'function', 'function': {'name': 'open_light', 'description': '打开机箱的灯。', 'parameters': {'type': 'object', 'properties': {}, 'required': []}}}, {'type': 'function', 'function': {'name': 'run_software', 'description': '根据给出的名称去运行指定的程序软件或者脚本等可执行的。', 'parameters': {'type': 'object', 'properties': {'software_name': {'type': 'string', 'description': '需要运行或者执行的软件程序或者脚本的名称', 'enum': ['Administrative Tools', 'File Explorer', 'Ollama', 'Sonic Suite Companion', 'WPS Office', 'LiveCaptions', 'Magnify', 'Narrator', 'On-Screen Keyboard', 'VoiceAccess', 'Blender 4', 'DirectX修复工具', 'GW-SOUL', 'Unwise', 'KOOK', 'LetsVPN', 'Overwolf', 'Valorant Tracker', 'Postman', 'Raspberry Pi Imager', 'OpenRGB', 'SakuraLauncher_8a49d589b8997c26e5fe8ca0c8308d23', 'Steam', 'Command Prompt', 'Control Panel', 'Run', 'Ubisoft Connect', 'Uplay', 'Install RELEASE (Ubuntu-22', 'WeMod', 'Windows PowerShell (x86)', 'Windows PowerShell', '小K直播姬', '百度网盘', '360安全卫士', '360安全防护中心', '7-Zip File Manager', 'Remote Desktop Connection', 'Steps Recorder', 'Windows Media Player Legacy', 'Character Map', 'Component Services', 'Computer Management', 'dfrgui', 'Disk Cleanup', 'Event Viewer', 'Hyper-V Manager', 'iSCSI Initiator', 'Memory Diagnostics Tool', 'ODBC Data Sources (32-bit)', 'ODBC Data Sources (64-bit)', 'Performance Monitor', 'Print Management', 'RecoveryDrive', 'Registry Editor', 'Resource Monitor', 'Security Configuration Management', 'services', 'System Configuration', 'System Information', 'Task Scheduler', 'VMCreate', 'Windows Defender Firewall with Advanced Security', 'CMake (cmake-gui)', 'CMake Documentation', 'CPU-Z', 'Edit CPU-Z Config File', 'DAREU Driver', 'DBeaver', '三角洲行动', 'App Recovery', 'EA app 更新程序', 'EA Error Reporter', 'EA Updater', 'EA', '无限暖暖', 'IntelliJ IDEA 2023', 'Live2D Cubism Editor 5', 'Live2D Cubism Viewer 5', 'Website', 'Logitech G HUB', 'Mouse without Borders', 'Anaconda Powershell Prompt (Miniconda)', 'Anaconda Prompt (Miniconda)', 'nvm', 'OBS Studio (64bit)', 'PotPlayer 64 bit', 'Riot Client', 'Riot客户端', 'VALORANT', 'SakuraFrp 启动器', 'Task Manager', 'ToDesk', 'Typora', 'Debuggable Package Manager', 'Developer Command Prompt for VS 2019', 'Developer PowerShell for VS 2019', 'x64 Native Tools Command Prompt for VS 2019', 'x64_x86 Cross Tools Command Prompt for VS 2019', 'x86 Native Tools Command Prompt for VS 2019', 'x86_x64 Cross Tools Command Prompt for VS 2019', 'Visual Studio Code', 'Windows PowerShell ISE (x86)', 'Windows PowerShell ISE', 'uninstall', '哔哩哔哩直播姬', '守望先锋', 'MiService', 'MIUI+', '尘白禁区', '微信', 'letsvpn -', '无畏契约', '暴雪战网', '网易云音乐', 'QQ', '腾讯QQ', 'QQ音乐', '听歌识曲', 'DingTalk Official Website', '钉钉']}}, 'required': ['software_name']}}}]\u001b[0m\n"
     ]
    }
   ],
   "source": [
    "from tools.tool_config import generate_tools_desc\n",
    "from ollama_qw import OllamaQW\n",
    "qw = OllamaQW(model_name='qwen2.5:3b',tools=generate_tools_desc())"
   ]
  },
  {
   "cell_type": "code",
   "execution_count": 9,
   "metadata": {},
   "outputs": [
    {
     "name": "stderr",
     "output_type": "stream",
     "text": [
      "\u001b[32m2025-01-15 02:15:49.294\u001b[0m | \u001b[1mINFO    \u001b[0m | \u001b[36mollama_qw\u001b[0m:\u001b[36mchat\u001b[0m:\u001b[36m23\u001b[0m - \u001b[1minput message: {'role': 'user', 'content': '运行百度云'}\u001b[0m\n",
      "\u001b[32m2025-01-15 02:15:54.340\u001b[0m | \u001b[1mINFO    \u001b[0m | \u001b[36mollama_qw\u001b[0m:\u001b[36mchat\u001b[0m:\u001b[36m30\u001b[0m - \u001b[1mmodel response is: model='qwen2.5:7b' created_at='2025-01-14T18:15:54.3400349Z' done=True done_reason='stop' total_duration=5043500700 load_duration=3116286500 prompt_eval_count=749 prompt_eval_duration=362000000 eval_count=74 eval_duration=1326000000 message=Message(role='assistant', content='为了更好地理解你的需求，你是否希望我通过以下方式来辅助你：\\n\\n1. 打开浏览器并导航到百度网盘网页版。\\n2. 运行相关的桌面应用（如果有的话）。\\n\\n请确认一下，这样我可以更准确地帮助你。如果没有特定的应用程序，我们可以通过访问官方网站来进行文件的管理和操作。', images=None, tool_calls=None)\u001b[0m\n"
     ]
    },
    {
     "name": "stdout",
     "output_type": "stream",
     "text": [
      "Alice: 为了更好地理解你的需求，你是否希望我通过以下方式来辅助你：\n",
      "\n",
      "1. 打开浏览器并导航到百度网盘网页版。\n",
      "2. 运行相关的桌面应用（如果有的话）。\n",
      "\n",
      "请确认一下，这样我可以更准确地帮助你。如果没有特定的应用程序，我们可以通过访问官方网站来进行文件的管理和操作。\n"
     ]
    }
   ],
   "source": [
    "\n",
    "def main():\n",
    "    while True:\n",
    "        msg = input(\">: \")\n",
    "        if msg.lower() == 'exit':\n",
    "            break\n",
    "        res = qw.chat(msg)\n",
    "        print(f\"Alice: {res['content']}\")\n",
    "main()"
   ]
  },
  {
   "cell_type": "code",
   "execution_count": null,
   "metadata": {},
   "outputs": [],
   "source": [
    "import importlib\n",
    "module_name = 'tools.tool_list'\n",
    "module = importlib.import_module(module_name)\n",
    "module"
   ]
  }
 ],
 "metadata": {
  "kernelspec": {
   "display_name": "ai",
   "language": "python",
   "name": "python3"
  },
  "language_info": {
   "codemirror_mode": {
    "name": "ipython",
    "version": 3
   },
   "file_extension": ".py",
   "mimetype": "text/x-python",
   "name": "python",
   "nbconvert_exporter": "python",
   "pygments_lexer": "ipython3",
   "version": "3.13.1"
  }
 },
 "nbformat": 4,
 "nbformat_minor": 2
}
