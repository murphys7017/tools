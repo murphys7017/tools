{
 "cells": [
  {
   "cell_type": "code",
   "execution_count": 1,
   "metadata": {},
   "outputs": [
    {
     "data": {
      "text/plain": [
       "{'ModelName': 'qwen2.5:3b',\n",
       " 'SystemPath': {'Programs': {'Paths': ['C:\\\\Users\\\\Administrator\\\\AppData\\\\Roaming\\\\Microsoft\\\\Windows\\\\Start Menu',\n",
       "    'C:\\\\ProgramData\\\\Microsoft\\\\Windows\\\\Start Menu\\\\Programs'],\n",
       "   'Exclude': {'Name': '卸载,Installer, Help,配置工具,Uninstall,Release Notes,FAQ,ReadMe,User’s Guide',\n",
       "    'Path': 'Windows Kits,Git,MySQL Server 8.0,Stardock,Tesseract-OCR,Visual Studio 2022'}}}}"
      ]
     },
     "execution_count": 1,
     "metadata": {},
     "output_type": "execute_result"
    }
   ],
   "source": [
    "import yaml\n",
    "with open('Config.yml', 'r', encoding='utf-8') as file:\n",
    "    config = yaml.load(file, Loader=yaml.FullLoader)\n",
    "config"
   ]
  },
  {
   "cell_type": "code",
   "execution_count": 2,
   "metadata": {},
   "outputs": [],
   "source": [
    "import os\n",
    "def get_files(folder_paths):\n",
    "    pgo = {}\n",
    "    for folder_path in folder_paths:\n",
    "        for filepath,dirnames,filenames in os.walk(folder_path):\n",
    "            for filename in filenames:\n",
    "                if filename.endswith('.lnk') or filename.endswith('.exe'):\n",
    "                    name = filename.split('.')[0]\n",
    "                    flg = True\n",
    "                    for key in config['SystemPath']['Programs']['Exclude']['Name'].split(','):\n",
    "                        if key in name or key == name:\n",
    "                            flg = False\n",
    "                            break\n",
    "                    if flg:\n",
    "                        for key in config['SystemPath']['Programs']['Exclude']['Path'].split(','):\n",
    "                            if key in name or key == name:\n",
    "                                flg = False\n",
    "                                break\n",
    "                    if flg:\n",
    "                        pgo[name] = os.path.join(filepath, filename)\n",
    "    return pgo"
   ]
  },
  {
   "cell_type": "code",
   "execution_count": null,
   "metadata": {},
   "outputs": [],
   "source": [
    "folder_path = 'path/to/your/folder'\n",
    "get_files(config['SystemPath']['Programs']['Paths'])"
   ]
  },
  {
   "cell_type": "code",
   "execution_count": 8,
   "metadata": {},
   "outputs": [
    {
     "data": {
      "text/plain": [
       "{'Administrative Tools': 'C:\\\\Users\\\\Administrator\\\\AppData\\\\Roaming\\\\Microsoft\\\\Windows\\\\Start Menu\\\\Programs\\\\Administrative Tools.lnk',\n",
       " 'File Explorer': 'C:\\\\Users\\\\Administrator\\\\AppData\\\\Roaming\\\\Microsoft\\\\Windows\\\\Start Menu\\\\Programs\\\\File Explorer.lnk',\n",
       " 'IDEA': 'C:\\\\Users\\\\Administrator\\\\AppData\\\\Roaming\\\\Microsoft\\\\Windows\\\\Start Menu\\\\Programs\\\\IDEA.lnk',\n",
       " 'malf': 'C:\\\\Users\\\\Administrator\\\\AppData\\\\Roaming\\\\Microsoft\\\\Windows\\\\Start Menu\\\\Programs\\\\malf.lnk',\n",
       " 'Ollama': 'C:\\\\Users\\\\Administrator\\\\AppData\\\\Roaming\\\\Microsoft\\\\Windows\\\\Start Menu\\\\Programs\\\\Startup\\\\Ollama.lnk',\n",
       " 'PC Health Check': 'C:\\\\Users\\\\Administrator\\\\AppData\\\\Roaming\\\\Microsoft\\\\Windows\\\\Start Menu\\\\Programs\\\\PC Health Check.lnk',\n",
       " 'WPS Office': 'C:\\\\Users\\\\Administrator\\\\AppData\\\\Roaming\\\\Microsoft\\\\Windows\\\\Start Menu\\\\Programs\\\\WPS Office.lnk',\n",
       " 'LiveCaptions': 'C:\\\\Users\\\\Administrator\\\\AppData\\\\Roaming\\\\Microsoft\\\\Windows\\\\Start Menu\\\\Programs\\\\Accessibility\\\\LiveCaptions.lnk',\n",
       " 'Magnify': 'C:\\\\Users\\\\Administrator\\\\AppData\\\\Roaming\\\\Microsoft\\\\Windows\\\\Start Menu\\\\Programs\\\\Accessibility\\\\Magnify.lnk',\n",
       " 'Narrator': 'C:\\\\Users\\\\Administrator\\\\AppData\\\\Roaming\\\\Microsoft\\\\Windows\\\\Start Menu\\\\Programs\\\\Accessibility\\\\Narrator.lnk',\n",
       " 'On-Screen Keyboard': 'C:\\\\Users\\\\Administrator\\\\AppData\\\\Roaming\\\\Microsoft\\\\Windows\\\\Start Menu\\\\Programs\\\\Accessibility\\\\On-Screen Keyboard.lnk',\n",
       " 'VoiceAccess': 'C:\\\\Users\\\\Administrator\\\\AppData\\\\Roaming\\\\Microsoft\\\\Windows\\\\Start Menu\\\\Programs\\\\Accessibility\\\\VoiceAccess.lnk',\n",
       " 'LetsVPN': 'C:\\\\Users\\\\Administrator\\\\AppData\\\\Roaming\\\\Microsoft\\\\Windows\\\\Start Menu\\\\Programs\\\\letsvpn\\\\LetsVPN.lnk',\n",
       " 'MongoDBCompass': 'C:\\\\Users\\\\Administrator\\\\AppData\\\\Roaming\\\\Microsoft\\\\Windows\\\\Start Menu\\\\Programs\\\\MongoDB Inc\\\\MongoDBCompass.lnk',\n",
       " 'Pandoc User’s Guide': 'C:\\\\Users\\\\Administrator\\\\AppData\\\\Roaming\\\\Microsoft\\\\Windows\\\\Start Menu\\\\Programs\\\\Pandoc\\\\Pandoc User’s Guide.lnk',\n",
       " 'Postman': 'C:\\\\Users\\\\Administrator\\\\AppData\\\\Roaming\\\\Microsoft\\\\Windows\\\\Start Menu\\\\Programs\\\\Postman\\\\Postman.lnk',\n",
       " 'Raspberry Pi Imager': 'C:\\\\Users\\\\Administrator\\\\AppData\\\\Roaming\\\\Microsoft\\\\Windows\\\\Start Menu\\\\Programs\\\\Raspberry Pi\\\\Raspberry Pi Imager.lnk',\n",
       " 'Steam': 'C:\\\\ProgramData\\\\Microsoft\\\\Windows\\\\Start Menu\\\\Programs\\\\Steam\\\\Steam.lnk',\n",
       " 'Command Prompt': 'C:\\\\Users\\\\Administrator\\\\AppData\\\\Roaming\\\\Microsoft\\\\Windows\\\\Start Menu\\\\Programs\\\\System Tools\\\\Command Prompt.lnk',\n",
       " 'Control Panel': 'C:\\\\Users\\\\Administrator\\\\AppData\\\\Roaming\\\\Microsoft\\\\Windows\\\\Start Menu\\\\Programs\\\\System Tools\\\\Control Panel.lnk',\n",
       " 'Run': 'C:\\\\Users\\\\Administrator\\\\AppData\\\\Roaming\\\\Microsoft\\\\Windows\\\\Start Menu\\\\Programs\\\\System Tools\\\\Run.lnk',\n",
       " 'Ubisoft Connect': 'C:\\\\Users\\\\Administrator\\\\AppData\\\\Roaming\\\\Microsoft\\\\Windows\\\\Start Menu\\\\Programs\\\\Ubisoft\\\\UbisoftConnect\\\\Ubisoft Connect.lnk',\n",
       " 'Uplay': 'C:\\\\Users\\\\Administrator\\\\AppData\\\\Roaming\\\\Microsoft\\\\Windows\\\\Start Menu\\\\Programs\\\\Ubisoft\\\\Uplay\\\\Uplay.lnk',\n",
       " 'Windows PowerShell (x86)': 'C:\\\\Users\\\\Administrator\\\\AppData\\\\Roaming\\\\Microsoft\\\\Windows\\\\Start Menu\\\\Programs\\\\Windows PowerShell\\\\Windows PowerShell (x86).lnk',\n",
       " 'Windows PowerShell': 'C:\\\\Users\\\\Administrator\\\\AppData\\\\Roaming\\\\Microsoft\\\\Windows\\\\Start Menu\\\\Programs\\\\Windows PowerShell\\\\Windows PowerShell.lnk',\n",
       " '百度网盘': 'C:\\\\Users\\\\Administrator\\\\AppData\\\\Roaming\\\\Microsoft\\\\Windows\\\\Start Menu\\\\Programs\\\\百度网盘\\\\百度网盘.lnk',\n",
       " 'Microsoft Edge': 'C:\\\\ProgramData\\\\Microsoft\\\\Windows\\\\Start Menu\\\\Programs\\\\Microsoft Edge.lnk',\n",
       " 'Motrix': 'C:\\\\ProgramData\\\\Microsoft\\\\Windows\\\\Start Menu\\\\Programs\\\\Motrix.lnk',\n",
       " 'Tabby Terminal': 'C:\\\\ProgramData\\\\Microsoft\\\\Windows\\\\Start Menu\\\\Programs\\\\Tabby Terminal.lnk',\n",
       " 'UU加速器': 'C:\\\\ProgramData\\\\Microsoft\\\\Windows\\\\Start Menu\\\\Programs\\\\UU加速器.lnk',\n",
       " 'Visual Studio 2022 Preview': 'C:\\\\ProgramData\\\\Microsoft\\\\Windows\\\\Start Menu\\\\Programs\\\\Visual Studio 2022 Preview.lnk',\n",
       " 'WSL Settings': 'C:\\\\ProgramData\\\\Microsoft\\\\Windows\\\\Start Menu\\\\Programs\\\\WSL Settings.lnk',\n",
       " 'WSL': 'C:\\\\ProgramData\\\\Microsoft\\\\Windows\\\\Start Menu\\\\Programs\\\\WSL.lnk',\n",
       " '网易云音乐': 'C:\\\\ProgramData\\\\Microsoft\\\\Windows\\\\Start Menu\\\\Programs\\\\网易云音乐\\\\网易云音乐.lnk',\n",
       " '360安全卫士': 'C:\\\\ProgramData\\\\Microsoft\\\\Windows\\\\Start Menu\\\\Programs\\\\360安全中心\\\\360安全卫士\\\\360安全卫士.lnk',\n",
       " '360安全防护中心': 'C:\\\\ProgramData\\\\Microsoft\\\\Windows\\\\Start Menu\\\\Programs\\\\360安全中心\\\\360安全卫士\\\\360安全防护中心.lnk',\n",
       " '360软件管家': 'C:\\\\ProgramData\\\\Microsoft\\\\Windows\\\\Start Menu\\\\Programs\\\\360安全中心\\\\360安全卫士\\\\360软件管家.lnk',\n",
       " '7-Zip File Manager': 'C:\\\\ProgramData\\\\Microsoft\\\\Windows\\\\Start Menu\\\\Programs\\\\7-Zip\\\\7-Zip File Manager.lnk',\n",
       " 'Speech Recognition': 'C:\\\\ProgramData\\\\Microsoft\\\\Windows\\\\Start Menu\\\\Programs\\\\Accessibility\\\\Speech Recognition.lnk',\n",
       " 'Remote Desktop Connection': 'C:\\\\ProgramData\\\\Microsoft\\\\Windows\\\\Start Menu\\\\Programs\\\\Accessories\\\\Remote Desktop Connection.lnk',\n",
       " 'Steps Recorder': 'C:\\\\ProgramData\\\\Microsoft\\\\Windows\\\\Start Menu\\\\Programs\\\\Accessories\\\\Steps Recorder.lnk',\n",
       " 'Windows Media Player Legacy': 'C:\\\\ProgramData\\\\Microsoft\\\\Windows\\\\Start Menu\\\\Programs\\\\Accessories\\\\Windows Media Player Legacy.lnk',\n",
       " 'Wordpad': 'C:\\\\ProgramData\\\\Microsoft\\\\Windows\\\\Start Menu\\\\Programs\\\\Accessories\\\\Wordpad.lnk',\n",
       " 'Character Map': 'C:\\\\ProgramData\\\\Microsoft\\\\Windows\\\\Start Menu\\\\Programs\\\\Accessories\\\\System Tools\\\\Character Map.lnk',\n",
       " 'Component Services': 'C:\\\\ProgramData\\\\Microsoft\\\\Windows\\\\Start Menu\\\\Programs\\\\Administrative Tools\\\\Component Services.lnk',\n",
       " 'Computer Management': 'C:\\\\ProgramData\\\\Microsoft\\\\Windows\\\\Start Menu\\\\Programs\\\\Administrative Tools\\\\Computer Management.lnk',\n",
       " 'dfrgui': 'C:\\\\ProgramData\\\\Microsoft\\\\Windows\\\\Start Menu\\\\Programs\\\\Administrative Tools\\\\dfrgui.lnk',\n",
       " 'Disk Cleanup': 'C:\\\\ProgramData\\\\Microsoft\\\\Windows\\\\Start Menu\\\\Programs\\\\Administrative Tools\\\\Disk Cleanup.lnk',\n",
       " 'Event Viewer': 'C:\\\\ProgramData\\\\Microsoft\\\\Windows\\\\Start Menu\\\\Programs\\\\Administrative Tools\\\\Event Viewer.lnk',\n",
       " 'iSCSI Initiator': 'C:\\\\ProgramData\\\\Microsoft\\\\Windows\\\\Start Menu\\\\Programs\\\\Administrative Tools\\\\iSCSI Initiator.lnk',\n",
       " 'Memory Diagnostics Tool': 'C:\\\\ProgramData\\\\Microsoft\\\\Windows\\\\Start Menu\\\\Programs\\\\Administrative Tools\\\\Memory Diagnostics Tool.lnk',\n",
       " 'ODBC Data Sources (32-bit)': 'C:\\\\ProgramData\\\\Microsoft\\\\Windows\\\\Start Menu\\\\Programs\\\\Administrative Tools\\\\ODBC Data Sources (32-bit).lnk',\n",
       " 'ODBC Data Sources (64-bit)': 'C:\\\\ProgramData\\\\Microsoft\\\\Windows\\\\Start Menu\\\\Programs\\\\Administrative Tools\\\\ODBC Data Sources (64-bit).lnk',\n",
       " 'Performance Monitor': 'C:\\\\ProgramData\\\\Microsoft\\\\Windows\\\\Start Menu\\\\Programs\\\\Administrative Tools\\\\Performance Monitor.lnk',\n",
       " 'Print Management': 'C:\\\\ProgramData\\\\Microsoft\\\\Windows\\\\Start Menu\\\\Programs\\\\Administrative Tools\\\\Print Management.lnk',\n",
       " 'RecoveryDrive': 'C:\\\\ProgramData\\\\Microsoft\\\\Windows\\\\Start Menu\\\\Programs\\\\Administrative Tools\\\\RecoveryDrive.lnk',\n",
       " 'Registry Editor': 'C:\\\\ProgramData\\\\Microsoft\\\\Windows\\\\Start Menu\\\\Programs\\\\Administrative Tools\\\\Registry Editor.lnk',\n",
       " 'Resource Monitor': 'C:\\\\ProgramData\\\\Microsoft\\\\Windows\\\\Start Menu\\\\Programs\\\\Administrative Tools\\\\Resource Monitor.lnk',\n",
       " 'Security Configuration Management': 'C:\\\\ProgramData\\\\Microsoft\\\\Windows\\\\Start Menu\\\\Programs\\\\Administrative Tools\\\\Security Configuration Management.lnk',\n",
       " 'services': 'C:\\\\ProgramData\\\\Microsoft\\\\Windows\\\\Start Menu\\\\Programs\\\\Administrative Tools\\\\services.lnk',\n",
       " 'System Configuration': 'C:\\\\ProgramData\\\\Microsoft\\\\Windows\\\\Start Menu\\\\Programs\\\\Administrative Tools\\\\System Configuration.lnk',\n",
       " 'System Information': 'C:\\\\ProgramData\\\\Microsoft\\\\Windows\\\\Start Menu\\\\Programs\\\\Administrative Tools\\\\System Information.lnk',\n",
       " 'Task Scheduler': 'C:\\\\ProgramData\\\\Microsoft\\\\Windows\\\\Start Menu\\\\Programs\\\\Administrative Tools\\\\Task Scheduler.lnk',\n",
       " 'Windows Defender Firewall with Advanced Security': 'C:\\\\ProgramData\\\\Microsoft\\\\Windows\\\\Start Menu\\\\Programs\\\\Administrative Tools\\\\Windows Defender Firewall with Advanced Security.lnk',\n",
       " 'DBeaver': 'C:\\\\ProgramData\\\\Microsoft\\\\Windows\\\\Start Menu\\\\Programs\\\\DBeaver Community\\\\DBeaver.lnk',\n",
       " 'FileZilla': 'C:\\\\ProgramData\\\\Microsoft\\\\Windows\\\\Start Menu\\\\Programs\\\\FileZilla FTP Client\\\\FileZilla.lnk',\n",
       " 'Administer FileZilla Server': 'C:\\\\ProgramData\\\\Microsoft\\\\Windows\\\\Start Menu\\\\Programs\\\\FileZilla Server\\\\Administer FileZilla Server.lnk',\n",
       " 'Start FileZilla Server': 'C:\\\\ProgramData\\\\Microsoft\\\\Windows\\\\Start Menu\\\\Programs\\\\FileZilla Server\\\\Start FileZilla Server.lnk',\n",
       " 'Stop FileZilla Server': 'C:\\\\ProgramData\\\\Microsoft\\\\Windows\\\\Start Menu\\\\Programs\\\\FileZilla Server\\\\Stop FileZilla Server.lnk',\n",
       " 'Git Bash': 'C:\\\\ProgramData\\\\Microsoft\\\\Windows\\\\Start Menu\\\\Programs\\\\Git\\\\Git Bash.lnk',\n",
       " 'Git CMD': 'C:\\\\ProgramData\\\\Microsoft\\\\Windows\\\\Start Menu\\\\Programs\\\\Git\\\\Git CMD.lnk',\n",
       " 'Git GUI': 'C:\\\\ProgramData\\\\Microsoft\\\\Windows\\\\Start Menu\\\\Programs\\\\Git\\\\Git GUI.lnk',\n",
       " 'Logitech G HUB': 'C:\\\\ProgramData\\\\Microsoft\\\\Windows\\\\Start Menu\\\\Programs\\\\Logi\\\\Logitech G HUB.lnk',\n",
       " 'Mouse without Borders': 'C:\\\\ProgramData\\\\Microsoft\\\\Windows\\\\Start Menu\\\\Programs\\\\Microsoft Garage\\\\Mouse without Borders.lnk',\n",
       " 'MySQL 8': 'C:\\\\ProgramData\\\\Microsoft\\\\Windows\\\\Start Menu\\\\Programs\\\\MySQL\\\\MySQL Server 8.0\\\\MySQL 8.0 Command Line Client.lnk',\n",
       " 'GeForce Experience': 'C:\\\\ProgramData\\\\Microsoft\\\\Windows\\\\Start Menu\\\\Programs\\\\NVIDIA Corporation\\\\GeForce Experience.lnk',\n",
       " 'nvm': 'C:\\\\ProgramData\\\\Microsoft\\\\Windows\\\\Start Menu\\\\Programs\\\\NVM for Windows\\\\nvm.lnk',\n",
       " 'PotPlayer 64 bit': 'C:\\\\ProgramData\\\\Microsoft\\\\Windows\\\\Start Menu\\\\Programs\\\\PotPlayer\\\\PotPlayer 64 bit.lnk',\n",
       " 'Riot Client': 'C:\\\\ProgramData\\\\Microsoft\\\\Windows\\\\Start Menu\\\\Programs\\\\Riot Games\\\\Riot Client.lnk',\n",
       " 'Service Control': 'C:\\\\ProgramData\\\\Microsoft\\\\Windows\\\\Start Menu\\\\Programs\\\\SFTPGo\\\\Service Control.lnk',\n",
       " 'Fences': 'C:\\\\ProgramData\\\\Microsoft\\\\Windows\\\\Start Menu\\\\Programs\\\\Stardock\\\\Fences.lnk',\n",
       " 'Удалить Start11': 'C:\\\\ProgramData\\\\Microsoft\\\\Windows\\\\Start Menu\\\\Programs\\\\Start11\\\\Удалить Start11.lnk',\n",
       " 'Task Manager': 'C:\\\\ProgramData\\\\Microsoft\\\\Windows\\\\Start Menu\\\\Programs\\\\System Tools\\\\Task Manager.lnk',\n",
       " 'Console': 'C:\\\\ProgramData\\\\Microsoft\\\\Windows\\\\Start Menu\\\\Programs\\\\Tesseract-OCR\\\\Console.lnk',\n",
       " 'Dokumentation': 'C:\\\\ProgramData\\\\Microsoft\\\\Windows\\\\Start Menu\\\\Programs\\\\Tesseract-OCR\\\\Dokumentation.lnk',\n",
       " 'Homepage': 'C:\\\\ProgramData\\\\Microsoft\\\\Windows\\\\Start Menu\\\\Programs\\\\Tesseract-OCR\\\\Homepage.lnk',\n",
       " 'ToDesk': 'C:\\\\ProgramData\\\\Microsoft\\\\Windows\\\\Start Menu\\\\Programs\\\\ToDesk\\\\ToDesk.lnk',\n",
       " 'Typora': 'C:\\\\ProgramData\\\\Microsoft\\\\Windows\\\\Start Menu\\\\Programs\\\\Typora\\\\Typora.lnk',\n",
       " 'Reset the Visual Studio 2022 Experimental Instance': 'C:\\\\ProgramData\\\\Microsoft\\\\Windows\\\\Start Menu\\\\Programs\\\\Visual Studio 2022\\\\Microsoft Visual Studio SDK\\\\Tools\\\\Reset the Visual Studio 2022 Experimental Instance.lnk',\n",
       " 'Start Experimental Instance of Visual Studio 2022': 'C:\\\\ProgramData\\\\Microsoft\\\\Windows\\\\Start Menu\\\\Programs\\\\Visual Studio 2022\\\\Microsoft Visual Studio SDK\\\\Tools\\\\Start Experimental Instance of Visual Studio 2022.lnk',\n",
       " 'Debuggable Package Manager Preview': 'C:\\\\ProgramData\\\\Microsoft\\\\Windows\\\\Start Menu\\\\Programs\\\\Visual Studio 2022\\\\Visual Studio Tools\\\\Debuggable Package Manager Preview.lnk',\n",
       " 'Debuggable Package Manager': 'C:\\\\ProgramData\\\\Microsoft\\\\Windows\\\\Start Menu\\\\Programs\\\\Visual Studio 2022\\\\Visual Studio Tools\\\\Debuggable Package Manager.lnk',\n",
       " 'Developer Command Prompt for VS 2022 Preview': 'C:\\\\ProgramData\\\\Microsoft\\\\Windows\\\\Start Menu\\\\Programs\\\\Visual Studio 2022\\\\Visual Studio Tools\\\\Developer Command Prompt for VS 2022 Preview.lnk',\n",
       " 'Developer Command Prompt for VS 2022': 'C:\\\\ProgramData\\\\Microsoft\\\\Windows\\\\Start Menu\\\\Programs\\\\Visual Studio 2022\\\\Visual Studio Tools\\\\Developer Command Prompt for VS 2022.lnk',\n",
       " 'Developer PowerShell for VS 2022 Preview': 'C:\\\\ProgramData\\\\Microsoft\\\\Windows\\\\Start Menu\\\\Programs\\\\Visual Studio 2022\\\\Visual Studio Tools\\\\Developer PowerShell for VS 2022 Preview.lnk',\n",
       " 'Developer PowerShell for VS 2022': 'C:\\\\ProgramData\\\\Microsoft\\\\Windows\\\\Start Menu\\\\Programs\\\\Visual Studio 2022\\\\Visual Studio Tools\\\\Developer PowerShell for VS 2022.lnk',\n",
       " 'x64 Native Tools Command Prompt for VS 2022 Preview': 'C:\\\\ProgramData\\\\Microsoft\\\\Windows\\\\Start Menu\\\\Programs\\\\Visual Studio 2022\\\\Visual Studio Tools\\\\VC\\\\x64 Native Tools Command Prompt for VS 2022 Preview.lnk',\n",
       " 'x64 Native Tools Command Prompt for VS 2022': 'C:\\\\ProgramData\\\\Microsoft\\\\Windows\\\\Start Menu\\\\Programs\\\\Visual Studio 2022\\\\Visual Studio Tools\\\\VC\\\\x64 Native Tools Command Prompt for VS 2022.lnk',\n",
       " 'x64_x86 Cross Tools Command Prompt for VS 2022 Preview': 'C:\\\\ProgramData\\\\Microsoft\\\\Windows\\\\Start Menu\\\\Programs\\\\Visual Studio 2022\\\\Visual Studio Tools\\\\VC\\\\x64_x86 Cross Tools Command Prompt for VS 2022 Preview.lnk',\n",
       " 'x64_x86 Cross Tools Command Prompt for VS 2022': 'C:\\\\ProgramData\\\\Microsoft\\\\Windows\\\\Start Menu\\\\Programs\\\\Visual Studio 2022\\\\Visual Studio Tools\\\\VC\\\\x64_x86 Cross Tools Command Prompt for VS 2022.lnk',\n",
       " 'x86 Native Tools Command Prompt for VS 2022 Preview': 'C:\\\\ProgramData\\\\Microsoft\\\\Windows\\\\Start Menu\\\\Programs\\\\Visual Studio 2022\\\\Visual Studio Tools\\\\VC\\\\x86 Native Tools Command Prompt for VS 2022 Preview.lnk',\n",
       " 'x86 Native Tools Command Prompt for VS 2022': 'C:\\\\ProgramData\\\\Microsoft\\\\Windows\\\\Start Menu\\\\Programs\\\\Visual Studio 2022\\\\Visual Studio Tools\\\\VC\\\\x86 Native Tools Command Prompt for VS 2022.lnk',\n",
       " 'x86_x64 Cross Tools Command Prompt for VS 2022 Preview': 'C:\\\\ProgramData\\\\Microsoft\\\\Windows\\\\Start Menu\\\\Programs\\\\Visual Studio 2022\\\\Visual Studio Tools\\\\VC\\\\x86_x64 Cross Tools Command Prompt for VS 2022 Preview.lnk',\n",
       " 'x86_x64 Cross Tools Command Prompt for VS 2022': 'C:\\\\ProgramData\\\\Microsoft\\\\Windows\\\\Start Menu\\\\Programs\\\\Visual Studio 2022\\\\Visual Studio Tools\\\\VC\\\\x86_x64 Cross Tools Command Prompt for VS 2022.lnk',\n",
       " 'Visual Studio Code': 'C:\\\\ProgramData\\\\Microsoft\\\\Windows\\\\Start Menu\\\\Programs\\\\Visual Studio Code\\\\Visual Studio Code.lnk',\n",
       " 'Application Verifier (X64)': 'C:\\\\ProgramData\\\\Microsoft\\\\Windows\\\\Start Menu\\\\Programs\\\\Windows Kits\\\\Application Verifier (X64)\\\\Application Verifier (X64).lnk',\n",
       " 'Application Verifier (WOW)': 'C:\\\\ProgramData\\\\Microsoft\\\\Windows\\\\Start Menu\\\\Programs\\\\Windows Kits\\\\Application Verifier (X86)\\\\Application Verifier (WOW).lnk',\n",
       " 'Windows App Cert Kit': 'C:\\\\ProgramData\\\\Microsoft\\\\Windows\\\\Start Menu\\\\Programs\\\\Windows Kits\\\\Windows App Certification Kit\\\\Windows App Cert Kit.lnk',\n",
       " 'Documentation for Desktop Apps': 'C:\\\\ProgramData\\\\Microsoft\\\\Windows\\\\Start Menu\\\\Programs\\\\Windows Kits\\\\Windows Software Development Kit\\\\Documentation for Desktop Apps.lnk',\n",
       " 'Documentation for Windows Store Apps': 'C:\\\\ProgramData\\\\Microsoft\\\\Windows\\\\Start Menu\\\\Programs\\\\Windows Kits\\\\Windows Software Development Kit\\\\Documentation for Windows Store Apps.lnk',\n",
       " 'Samples for Desktop Apps': 'C:\\\\ProgramData\\\\Microsoft\\\\Windows\\\\Start Menu\\\\Programs\\\\Windows Kits\\\\Windows Software Development Kit\\\\Samples for Desktop Apps.lnk',\n",
       " 'Samples for Windows Store Apps': 'C:\\\\ProgramData\\\\Microsoft\\\\Windows\\\\Start Menu\\\\Programs\\\\Windows Kits\\\\Windows Software Development Kit\\\\Samples for Windows Store Apps.lnk',\n",
       " 'Tools for Desktop Apps': 'C:\\\\ProgramData\\\\Microsoft\\\\Windows\\\\Start Menu\\\\Programs\\\\Windows Kits\\\\Windows Software Development Kit\\\\Tools for Desktop Apps.lnk',\n",
       " 'Tools for Windows Store Apps': 'C:\\\\ProgramData\\\\Microsoft\\\\Windows\\\\Start Menu\\\\Programs\\\\Windows Kits\\\\Windows Software Development Kit\\\\Tools for Windows Store Apps.lnk',\n",
       " 'Windows Software Development Kit': 'C:\\\\ProgramData\\\\Microsoft\\\\Windows\\\\Start Menu\\\\Programs\\\\Windows Kits\\\\Windows Software Development Kit\\\\Windows Software Development Kit.lnk',\n",
       " 'Windows PowerShell ISE (x86)': 'C:\\\\ProgramData\\\\Microsoft\\\\Windows\\\\Start Menu\\\\Programs\\\\Windows PowerShell\\\\Windows PowerShell ISE (x86).lnk',\n",
       " 'Windows PowerShell ISE': 'C:\\\\ProgramData\\\\Microsoft\\\\Windows\\\\Start Menu\\\\Programs\\\\Windows PowerShell\\\\Windows PowerShell ISE.lnk',\n",
       " '微信': 'C:\\\\ProgramData\\\\Microsoft\\\\Windows\\\\Start Menu\\\\Programs\\\\微信\\\\微信.lnk',\n",
       " 'QQ': 'C:\\\\ProgramData\\\\Microsoft\\\\Windows\\\\Start Menu\\\\Programs\\\\腾讯软件\\\\QQ\\\\QQ.lnk',\n",
       " 'DingTalk Official Website': 'C:\\\\ProgramData\\\\Microsoft\\\\Windows\\\\Start Menu\\\\Programs\\\\钉钉\\\\DingTalk Official Website.lnk',\n",
       " '钉钉': 'C:\\\\ProgramData\\\\Microsoft\\\\Windows\\\\Start Menu\\\\Programs\\\\钉钉\\\\钉钉.lnk'}"
      ]
     },
     "execution_count": 8,
     "metadata": {},
     "output_type": "execute_result"
    }
   ],
   "source": [
    "pgo"
   ]
  },
  {
   "cell_type": "code",
   "execution_count": 6,
   "metadata": {},
   "outputs": [],
   "source": [
    "import tools.tool_config as tool_config\n",
    "\n",
    "\n",
    "tools = tool_config.tools\n",
    "tools[2]['function']['parameters']['properties']['software_name']['enum'] = list(pgo.keys())\n"
   ]
  },
  {
   "cell_type": "code",
   "execution_count": 7,
   "metadata": {},
   "outputs": [
    {
     "name": "stderr",
     "output_type": "stream",
     "text": [
      "\u001b[32m2025-01-13 10:36:20.031\u001b[0m | \u001b[1mINFO    \u001b[0m | \u001b[36mollama_qw\u001b[0m:\u001b[36m__init__\u001b[0m:\u001b[36m21\u001b[0m - \u001b[1m[{'type': 'function', 'function': {'name': 'close_light', 'description': '关掉机箱的灯。', 'parameters': {'type': 'object', 'properties': {}, 'required': []}}}, {'type': 'function', 'function': {'name': 'open_light', 'description': '打开机箱的灯。', 'parameters': {'type': 'object', 'properties': {}, 'required': []}}}, {'type': 'function', 'function': {'name': 'run_software', 'description': '根据给出的名称去运行指定的程序软件或者脚本等可执行的。', 'parameters': {'type': 'object', 'properties': {'software_name': {'type': 'string', 'enum': ['Administrative Tools', 'File Explorer', 'IDEA', 'malf', 'Ollama', 'PC Health Check', 'WPS Office', 'LiveCaptions', 'Magnify', 'Narrator', 'On-Screen Keyboard', 'VoiceAccess', 'LetsVPN', 'MongoDBCompass', 'Pandoc User’s Guide', 'Postman', 'Raspberry Pi Imager', 'Steam', 'Command Prompt', 'Control Panel', 'Run', 'Ubisoft Connect', 'Uplay', 'Windows PowerShell (x86)', 'Windows PowerShell', '百度网盘', 'Microsoft Edge', 'Motrix', 'Tabby Terminal', 'UU加速器', 'Visual Studio 2022 Preview', 'WSL Settings', 'WSL', '网易云音乐', '360安全卫士', '360安全防护中心', '360软件管家', '7-Zip File Manager', 'Speech Recognition', 'Remote Desktop Connection', 'Steps Recorder', 'Windows Media Player Legacy', 'Wordpad', 'Character Map', 'Component Services', 'Computer Management', 'dfrgui', 'Disk Cleanup', 'Event Viewer', 'iSCSI Initiator', 'Memory Diagnostics Tool', 'ODBC Data Sources (32-bit)', 'ODBC Data Sources (64-bit)', 'Performance Monitor', 'Print Management', 'RecoveryDrive', 'Registry Editor', 'Resource Monitor', 'Security Configuration Management', 'services', 'System Configuration', 'System Information', 'Task Scheduler', 'Windows Defender Firewall with Advanced Security', 'DBeaver', 'FileZilla', 'Administer FileZilla Server', 'Start FileZilla Server', 'Stop FileZilla Server', 'Git Bash', 'Git CMD', 'Git GUI', 'Logitech G HUB', 'Mouse without Borders', 'MySQL 8', 'GeForce Experience', 'nvm', 'PotPlayer 64 bit', 'Riot Client', 'Service Control', 'Fences', 'Удалить Start11', 'Task Manager', 'Console', 'Dokumentation', 'Homepage', 'ToDesk', 'Typora', 'Reset the Visual Studio 2022 Experimental Instance', 'Start Experimental Instance of Visual Studio 2022', 'Debuggable Package Manager Preview', 'Debuggable Package Manager', 'Developer Command Prompt for VS 2022 Preview', 'Developer Command Prompt for VS 2022', 'Developer PowerShell for VS 2022 Preview', 'Developer PowerShell for VS 2022', 'x64 Native Tools Command Prompt for VS 2022 Preview', 'x64 Native Tools Command Prompt for VS 2022', 'x64_x86 Cross Tools Command Prompt for VS 2022 Preview', 'x64_x86 Cross Tools Command Prompt for VS 2022', 'x86 Native Tools Command Prompt for VS 2022 Preview', 'x86 Native Tools Command Prompt for VS 2022', 'x86_x64 Cross Tools Command Prompt for VS 2022 Preview', 'x86_x64 Cross Tools Command Prompt for VS 2022', 'Visual Studio Code', 'Application Verifier (X64)', 'Application Verifier (WOW)', 'Windows App Cert Kit', 'Documentation for Desktop Apps', 'Documentation for Windows Store Apps', 'Samples for Desktop Apps', 'Samples for Windows Store Apps', 'Tools for Desktop Apps', 'Tools for Windows Store Apps', 'Windows Software Development Kit', 'Windows PowerShell ISE (x86)', 'Windows PowerShell ISE', '微信', 'QQ', 'DingTalk Official Website', '钉钉'], 'description': '需要运行或者执行的软件程序或者脚本的名称'}}, 'required': ['software_name']}}}]\u001b[0m\n",
      "\u001b[32m2025-01-13 10:36:34.270\u001b[0m | \u001b[1mINFO    \u001b[0m | \u001b[36mollama_qw\u001b[0m:\u001b[36mchat\u001b[0m:\u001b[36m25\u001b[0m - \u001b[1minput message: {'role': 'user', 'content': '打开qq'}\u001b[0m\n",
      "\u001b[32m2025-01-13 10:36:39.929\u001b[0m | \u001b[1mINFO    \u001b[0m | \u001b[36mollama_qw\u001b[0m:\u001b[36mchat\u001b[0m:\u001b[36m32\u001b[0m - \u001b[1mmodel response is: model='qwen2.5:3b' created_at='2025-01-13T02:36:39.9279678Z' done=True done_reason='stop' total_duration=5652508600 load_duration=2873921700 prompt_eval_count=259 prompt_eval_duration=727000000 eval_count=40 eval_duration=1650000000 message=Message(role='assistant', content='', images=None, tool_calls=[ToolCall(function=Function(name='run_software', arguments={'software_name': 'QQ'}))])\u001b[0m\n",
      "\u001b[32m2025-01-13 10:36:39.931\u001b[0m | \u001b[1mINFO    \u001b[0m | \u001b[36mollama_qw\u001b[0m:\u001b[36mchat\u001b[0m:\u001b[36m38\u001b[0m - \u001b[1mfunction name: run_software\u001b[0m\n",
      "\u001b[32m2025-01-13 10:36:39.933\u001b[0m | \u001b[1mINFO    \u001b[0m | \u001b[36mollama_qw\u001b[0m:\u001b[36mchat\u001b[0m:\u001b[36m39\u001b[0m - \u001b[1mfunction args: {'software_name': 'QQ'}\u001b[0m\n",
      "\u001b[32m2025-01-13 10:36:39.935\u001b[0m | \u001b[1mINFO    \u001b[0m | \u001b[36mollama_qw\u001b[0m:\u001b[36mchat\u001b[0m:\u001b[36m48\u001b[0m - \u001b[1mtool response is: {'role': 'tool', 'name': 'run_software', 'content': None}\u001b[0m\n"
     ]
    },
    {
     "name": "stdout",
     "output_type": "stream",
     "text": [
      "Running software QQ\n"
     ]
    },
    {
     "name": "stderr",
     "output_type": "stream",
     "text": [
      "\u001b[32m2025-01-13 10:36:40.990\u001b[0m | \u001b[1mINFO    \u001b[0m | \u001b[36mollama_qw\u001b[0m:\u001b[36mchat\u001b[0m:\u001b[36m55\u001b[0m - \u001b[1mmodel response is: model='qwen2.5:3b' created_at='2025-01-13T02:36:40.9888912Z' done=True done_reason='stop' total_duration=1050343900 load_duration=29899900 prompt_eval_count=297 prompt_eval_duration=110000000 eval_count=21 eval_duration=897000000 message=Message(role='assistant', content='已为您打开了QQ。您可以开始使用它了。如果您有任何问题或需要帮助，请告诉我。', images=None, tool_calls=None)\u001b[0m\n"
     ]
    },
    {
     "name": "stdout",
     "output_type": "stream",
     "text": [
      "Alice: 已为您打开了QQ。您可以开始使用它了。如果您有任何问题或需要帮助，请告诉我。\n"
     ]
    },
    {
     "name": "stderr",
     "output_type": "stream",
     "text": [
      "\u001b[32m2025-01-13 10:36:50.565\u001b[0m | \u001b[1mINFO    \u001b[0m | \u001b[36mollama_qw\u001b[0m:\u001b[36mchat\u001b[0m:\u001b[36m25\u001b[0m - \u001b[1minput message: {'role': 'user', 'content': '打开百度网盘'}\u001b[0m\n",
      "\u001b[32m2025-01-13 10:36:51.671\u001b[0m | \u001b[1mINFO    \u001b[0m | \u001b[36mollama_qw\u001b[0m:\u001b[36mchat\u001b[0m:\u001b[36m32\u001b[0m - \u001b[1mmodel response is: model='qwen2.5:3b' created_at='2025-01-13T02:36:51.6711241Z' done=True done_reason='stop' total_duration=1100142800 load_duration=30202400 prompt_eval_count=331 prompt_eval_duration=84000000 eval_count=23 eval_duration=962000000 message=Message(role='assistant', content='', images=None, tool_calls=[ToolCall(function=Function(name='run_software', arguments={'software_name': '百度网盘'}))])\u001b[0m\n",
      "\u001b[32m2025-01-13 10:36:51.674\u001b[0m | \u001b[1mINFO    \u001b[0m | \u001b[36mollama_qw\u001b[0m:\u001b[36mchat\u001b[0m:\u001b[36m38\u001b[0m - \u001b[1mfunction name: run_software\u001b[0m\n",
      "\u001b[32m2025-01-13 10:36:51.675\u001b[0m | \u001b[1mINFO    \u001b[0m | \u001b[36mollama_qw\u001b[0m:\u001b[36mchat\u001b[0m:\u001b[36m39\u001b[0m - \u001b[1mfunction args: {'software_name': '百度网盘'}\u001b[0m\n",
      "\u001b[32m2025-01-13 10:36:51.678\u001b[0m | \u001b[1mINFO    \u001b[0m | \u001b[36mollama_qw\u001b[0m:\u001b[36mchat\u001b[0m:\u001b[36m48\u001b[0m - \u001b[1mtool response is: {'role': 'tool', 'name': 'run_software', 'content': None}\u001b[0m\n"
     ]
    },
    {
     "name": "stdout",
     "output_type": "stream",
     "text": [
      "Running software 百度网盘\n"
     ]
    },
    {
     "name": "stderr",
     "output_type": "stream",
     "text": [
      "\u001b[32m2025-01-13 10:36:52.853\u001b[0m | \u001b[1mINFO    \u001b[0m | \u001b[36mollama_qw\u001b[0m:\u001b[36mchat\u001b[0m:\u001b[36m55\u001b[0m - \u001b[1mmodel response is: model='qwen2.5:3b' created_at='2025-01-13T02:36:52.8523334Z' done=True done_reason='stop' total_duration=1170953800 load_duration=31050700 prompt_eval_count=371 prompt_eval_duration=105000000 eval_count=23 eval_duration=1003000000 message=Message(role='assistant', content='我已经为您打开了百度网盘。您可以开始使用它了。如果您有任何问题或需要帮助，请告诉我。', images=None, tool_calls=None)\u001b[0m\n"
     ]
    },
    {
     "name": "stdout",
     "output_type": "stream",
     "text": [
      "Alice: 我已经为您打开了百度网盘。您可以开始使用它了。如果您有任何问题或需要帮助，请告诉我。\n"
     ]
    }
   ],
   "source": [
    "from ollama_qw import OllamaQW\n",
    "import ollama\n",
    "def main():\n",
    "    qw = OllamaQW(model_name='qwen2.5:3b',tools=tools)\n",
    "    while True:\n",
    "        msg = input(\">: \")\n",
    "        if msg.lower() == 'exit':\n",
    "            break\n",
    "        res = qw.chat(msg)\n",
    "        print(f\"Alice: {res['content']}\")\n",
    "main()"
   ]
  }
 ],
 "metadata": {
  "kernelspec": {
   "display_name": "ai",
   "language": "python",
   "name": "python3"
  },
  "language_info": {
   "codemirror_mode": {
    "name": "ipython",
    "version": 3
   },
   "file_extension": ".py",
   "mimetype": "text/x-python",
   "name": "python",
   "nbconvert_exporter": "python",
   "pygments_lexer": "ipython3",
   "version": "3.13.1"
  }
 },
 "nbformat": 4,
 "nbformat_minor": 2
}
