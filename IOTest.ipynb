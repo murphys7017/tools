{
 "cells": [
  {
   "cell_type": "code",
   "execution_count": 7,
   "metadata": {},
   "outputs": [
    {
     "name": "stderr",
     "output_type": "stream",
     "text": [
      "\u001b[32m2025-01-16 08:01:41.537\u001b[0m | \u001b[1mINFO    \u001b[0m | \u001b[36mollama_qw\u001b[0m:\u001b[36m__init__\u001b[0m:\u001b[36m12\u001b[0m - \u001b[1m[{'type': 'function', 'function': {'name': 'close_light', 'description': '关掉机箱的灯。', 'parameters': {'type': 'object', 'properties': {}, 'required': []}}}, {'type': 'function', 'function': {'name': 'open_light', 'description': '打开机箱的灯。', 'parameters': {'type': 'object', 'properties': {}, 'required': []}}}, {'type': 'function', 'function': {'name': 'run_software', 'description': '打开或者运行程序、软件、应用、脚本等。', 'parameters': {'type': 'object', 'properties': {'software_name': {'type': 'string', 'description': '需要打开或者运行的程序的简称或者别称，从enum中选择最相符的传入需要打开、运行或者执行的软件程序或者脚本的名称', 'enum': ['administrative tools', 'file explorer', 'ollama', 'sonic suite companion', 'wps office', 'livecaptions', 'magnify', 'narrator', 'on-screen keyboard', 'voiceaccess', 'blender 4', 'directx修复工具', 'gw-soul', 'unwise', 'kook', 'letsvpn', 'overwolf', 'valorant tracker', 'postman', 'raspberry pi imager', 'openrgb', 'sakuralauncher_8a49d589b8997c26e5fe8ca0c8308d23', 'steam', 'command prompt', 'control panel', 'run', 'ubisoft connect', 'uplay', 'install release (ubuntu-22', 'wemod', 'windows powershell (x86)', 'windows powershell', '小k直播姬', '百度网盘', '360安全卫士', '360安全防护中心', '7-zip file manager', 'remote desktop connection', 'steps recorder', 'windows media player legacy', 'character map', 'component services', 'computer management', 'dfrgui', 'disk cleanup', 'event viewer', 'hyper-v manager', 'iscsi initiator', 'memory diagnostics tool', 'odbc data sources (32-bit)', 'odbc data sources (64-bit)', 'performance monitor', 'print management', 'recoverydrive', 'registry editor', 'resource monitor', 'security configuration management', 'services', 'system configuration', 'system information', 'task scheduler', 'vmcreate', 'windows defender firewall with advanced security', 'cmake (cmake-gui)', 'cmake documentation', 'cpu-z', 'edit cpu-z config file', 'dareu driver', 'dbeaver', '三角洲行动', 'app recovery', 'ea app 更新程序', 'ea error reporter', 'ea updater', 'ea', '无限暖暖', 'intellij idea 2023', 'live2d cubism editor 5', 'live2d cubism viewer 5', 'website', 'logitech g hub', 'mouse without borders', 'anaconda powershell prompt (miniconda)', 'anaconda prompt (miniconda)', 'nvm', 'obs studio (64bit)', 'potplayer 64 bit', 'riot client', 'riot客户端', 'valorant', 'sakurafrp 启动器', 'task manager', 'todesk', 'typora', 'debuggable package manager', 'developer command prompt for vs 2019', 'developer powershell for vs 2019', 'x64 native tools command prompt for vs 2019', 'x64_x86 cross tools command prompt for vs 2019', 'x86 native tools command prompt for vs 2019', 'x86_x64 cross tools command prompt for vs 2019', 'visual studio code', 'windows powershell ise (x86)', 'windows powershell ise', 'uninstall', '哔哩哔哩直播姬', '守望先锋', 'miservice', 'miui+', '尘白禁区', '微信', 'letsvpn -', '无畏契约', '暴雪战网', '网易云音乐', 'qq', '腾讯qq', 'qq音乐', '听歌识曲', 'dingtalk official website', '钉钉']}}, 'required': ['software_name']}}}]\u001b[0m\n"
     ]
    }
   ],
   "source": [
    "from ollama_qw import OllamaQW\n",
    "qw = OllamaQW()"
   ]
  },
  {
   "cell_type": "code",
   "execution_count": null,
   "metadata": {},
   "outputs": [
    {
     "name": "stderr",
     "output_type": "stream",
     "text": [
      "\u001b[32m2025-01-16 08:07:07.999\u001b[0m | \u001b[1mINFO    \u001b[0m | \u001b[36m__main__\u001b[0m:\u001b[36m__init__\u001b[0m:\u001b[36m12\u001b[0m - \u001b[1m[{'type': 'function', 'function': {'name': 'close_light', 'description': '关掉机箱的灯。', 'parameters': {'type': 'object', 'properties': {}, 'required': []}}}, {'type': 'function', 'function': {'name': 'open_light', 'description': '打开机箱的灯。', 'parameters': {'type': 'object', 'properties': {}, 'required': []}}}, {'type': 'function', 'function': {'name': 'run_software', 'description': '打开或者运行程序、软件、应用、脚本等。', 'parameters': {'type': 'object', 'properties': {'software_name': {'type': 'string', 'description': '需要打开或者运行的程序的简称或者别称，从enum中选择最相符的传入需要打开、运行或者执行的软件程序或者脚本的名称', 'enum': ['administrative tools', 'file explorer', 'ollama', 'sonic suite companion', 'wps office', 'livecaptions', 'magnify', 'narrator', 'on-screen keyboard', 'voiceaccess', 'blender 4', 'directx修复工具', 'gw-soul', 'unwise', 'kook', 'letsvpn', 'overwolf', 'valorant tracker', 'postman', 'raspberry pi imager', 'openrgb', 'sakuralauncher_8a49d589b8997c26e5fe8ca0c8308d23', 'steam', 'command prompt', 'control panel', 'run', 'ubisoft connect', 'uplay', 'install release (ubuntu-22', 'wemod', 'windows powershell (x86)', 'windows powershell', '小k直播姬', '百度网盘', '360安全卫士', '360安全防护中心', '7-zip file manager', 'remote desktop connection', 'steps recorder', 'windows media player legacy', 'character map', 'component services', 'computer management', 'dfrgui', 'disk cleanup', 'event viewer', 'hyper-v manager', 'iscsi initiator', 'memory diagnostics tool', 'odbc data sources (32-bit)', 'odbc data sources (64-bit)', 'performance monitor', 'print management', 'recoverydrive', 'registry editor', 'resource monitor', 'security configuration management', 'services', 'system configuration', 'system information', 'task scheduler', 'vmcreate', 'windows defender firewall with advanced security', 'cmake (cmake-gui)', 'cmake documentation', 'cpu-z', 'edit cpu-z config file', 'dareu driver', 'dbeaver', '三角洲行动', 'app recovery', 'ea app 更新程序', 'ea error reporter', 'ea updater', 'ea', '无限暖暖', 'intellij idea 2023', 'live2d cubism editor 5', 'live2d cubism viewer 5', 'website', 'logitech g hub', 'mouse without borders', 'anaconda powershell prompt (miniconda)', 'anaconda prompt (miniconda)', 'nvm', 'obs studio (64bit)', 'potplayer 64 bit', 'riot client', 'riot客户端', 'valorant', 'sakurafrp 启动器', 'task manager', 'todesk', 'typora', 'debuggable package manager', 'developer command prompt for vs 2019', 'developer powershell for vs 2019', 'x64 native tools command prompt for vs 2019', 'x64_x86 cross tools command prompt for vs 2019', 'x86 native tools command prompt for vs 2019', 'x86_x64 cross tools command prompt for vs 2019', 'visual studio code', 'windows powershell ise (x86)', 'windows powershell ise', 'uninstall', '哔哩哔哩直播姬', '守望先锋', 'miservice', 'miui+', '尘白禁区', '微信', 'letsvpn -', '无畏契约', '暴雪战网', '网易云音乐', 'qq', '腾讯qq', 'qq音乐', '听歌识曲', 'dingtalk official website', '钉钉']}}, 'required': ['software_name']}}}]\u001b[0m\n"
     ]
    }
   ],
   "source": [
    "from tools import tool_config\n",
    "import ollama\n",
    "from loguru import logger\n",
    "class OllamaQW():\n",
    "\n",
    "    def __init__(self, model_name: str='qwen2.5:3b'):\n",
    "        self.model_name = model_name\n",
    "        self.tools = tool_config.generate_tools_desc()\n",
    "        self.base_message = [\n",
    "            {\"role\": \"system\", \"content\": \"你是Alice,是YakumoAki在设计的智能语音助手\"}]\n",
    "        self.messages = []\n",
    "        logger.info(self.tools)\n",
    "    \n",
    "    def ollama_chat(self,text):\n",
    "        self.messages.append({'role': 'user', 'content': text})\n",
    "        stream = ollama.generate(\n",
    "                stream=True,\n",
    "                model=self.model_name,\n",
    "                messages=self.base_message + self.messages[-20:],\n",
    "                tools=self.tools,\n",
    "            )\n",
    "        for chunk in stream:\n",
    "            if not chunk['done']:\n",
    "                print(chunk['response'], end='', flush=True)\n",
    "            else:\n",
    "                print('\\n')\n",
    "                print('-----------------------------------------')\n",
    "                print(f'总耗时：{chunk['total_duration']}')\n",
    "                print('-----------------------------------------')\n",
    "qw = OllamaQW()"
   ]
  },
  {
   "cell_type": "code",
   "execution_count": 8,
   "metadata": {},
   "outputs": [
    {
     "ename": "TypeError",
     "evalue": "Client.chat() got an unexpected keyword argument 'prompt'",
     "output_type": "error",
     "traceback": [
      "\u001b[1;31m---------------------------------------------------------------------------\u001b[0m",
      "\u001b[1;31mTypeError\u001b[0m                                 Traceback (most recent call last)",
      "Cell \u001b[1;32mIn[8], line 1\u001b[0m\n\u001b[1;32m----> 1\u001b[0m \u001b[43mqw\u001b[49m\u001b[38;5;241;43m.\u001b[39;49m\u001b[43mollama_chat\u001b[49m\u001b[43m(\u001b[49m\u001b[38;5;124;43m'\u001b[39;49m\u001b[38;5;124;43m你好啊\u001b[39;49m\u001b[38;5;124;43m'\u001b[39;49m\u001b[43m)\u001b[49m\n",
      "Cell \u001b[1;32mIn[7], line 16\u001b[0m, in \u001b[0;36mOllamaQW.ollama_chat\u001b[1;34m(self, text)\u001b[0m\n\u001b[0;32m     14\u001b[0m \u001b[38;5;28;01mdef\u001b[39;00m\u001b[38;5;250m \u001b[39m\u001b[38;5;21mollama_chat\u001b[39m(\u001b[38;5;28mself\u001b[39m,text):\n\u001b[0;32m     15\u001b[0m     \u001b[38;5;28mself\u001b[39m\u001b[38;5;241m.\u001b[39mmessages\u001b[38;5;241m.\u001b[39mappend({\u001b[38;5;124m'\u001b[39m\u001b[38;5;124mrole\u001b[39m\u001b[38;5;124m'\u001b[39m: \u001b[38;5;124m'\u001b[39m\u001b[38;5;124muser\u001b[39m\u001b[38;5;124m'\u001b[39m, \u001b[38;5;124m'\u001b[39m\u001b[38;5;124mcontent\u001b[39m\u001b[38;5;124m'\u001b[39m: text})\n\u001b[1;32m---> 16\u001b[0m     stream \u001b[38;5;241m=\u001b[39m \u001b[43mollama\u001b[49m\u001b[38;5;241;43m.\u001b[39;49m\u001b[43mchat\u001b[49m\u001b[43m(\u001b[49m\n\u001b[0;32m     17\u001b[0m \u001b[43m            \u001b[49m\u001b[43mstream\u001b[49m\u001b[38;5;241;43m=\u001b[39;49m\u001b[38;5;28;43;01mTrue\u001b[39;49;00m\u001b[43m,\u001b[49m\n\u001b[0;32m     18\u001b[0m \u001b[43m            \u001b[49m\u001b[43mmodel\u001b[49m\u001b[38;5;241;43m=\u001b[39;49m\u001b[38;5;28;43mself\u001b[39;49m\u001b[38;5;241;43m.\u001b[39;49m\u001b[43mmodel_name\u001b[49m\u001b[43m,\u001b[49m\n\u001b[0;32m     19\u001b[0m \u001b[43m            \u001b[49m\u001b[43mprompt\u001b[49m\u001b[38;5;241;43m=\u001b[39;49m\u001b[43mtext\u001b[49m\u001b[43m,\u001b[49m\n\u001b[0;32m     20\u001b[0m \u001b[43m            \u001b[49m\u001b[43mtools\u001b[49m\u001b[38;5;241;43m=\u001b[39;49m\u001b[38;5;28;43mself\u001b[39;49m\u001b[38;5;241;43m.\u001b[39;49m\u001b[43mtools\u001b[49m\u001b[43m,\u001b[49m\n\u001b[0;32m     21\u001b[0m \u001b[43m        \u001b[49m\u001b[43m)\u001b[49m\n\u001b[0;32m     22\u001b[0m     \u001b[38;5;28;01mfor\u001b[39;00m chunk \u001b[38;5;129;01min\u001b[39;00m stream:\n\u001b[0;32m     23\u001b[0m         \u001b[38;5;28;01mif\u001b[39;00m \u001b[38;5;129;01mnot\u001b[39;00m chunk[\u001b[38;5;124m'\u001b[39m\u001b[38;5;124mdone\u001b[39m\u001b[38;5;124m'\u001b[39m]:\n",
      "\u001b[1;31mTypeError\u001b[0m: Client.chat() got an unexpected keyword argument 'prompt'"
     ]
    }
   ],
   "source": [
    "qw.ollama_chat('你好啊')"
   ]
  },
  {
   "cell_type": "code",
   "execution_count": 6,
   "metadata": {},
   "outputs": [
    {
     "name": "stdout",
     "output_type": "stream",
     "text": [
      "提问：天空为什么是蓝色的？\n",
      "-----------------------------------------\n",
      "天空之所以呈现蓝色，是因为大气中的气体分子和微小颗粒对太阳光谱中短波长（蓝色和紫色）的光线散射效果较强。这被称为瑞利散射。当阳光照射到地球上的空气时，这些微粒会将部分蓝光散射到各个方向。由于人眼对蓝色颜色最为敏感，因此在日出、日落等低角度观察时，蓝色光线会占据大部分视野，使天空显得更加蓝。\n",
      "\n",
      "具体来说，太阳的光线经过大气层时，从高处开始到接近地平线的地方逐渐变暗。这时，我们看到的“天空”实际上是由地面上反射和散射的大气中的微粒（如尘埃、水滴等）引起的，这些物质吸收了较短波长的光而散射出去。因此，看起来像是蓝色的天空。\n",
      "\n",
      "同时，在日出或日落时分，太阳处于地平线以下，光线需要穿过大气层更远的距离才能到达我们的眼睛。由于大气中的气体分子和尘埃颗粒对较长波长（红色和橙色）的光线散射较少，所以这些颜色的光线比较容易逃逸到天空中。\n",
      "\n",
      "这种现象解释了为什么我们通常看到的日落是红橙黄相间的色彩，而非纯蓝色。\n",
      "\n",
      "-----------------------------------------\n",
      "总耗时：3485491800\n",
      "-----------------------------------------\n"
     ]
    }
   ],
   "source": [
    "import ollama\n",
    "def api_generate(text:str):\n",
    "  print(f'提问：{text}')\n",
    " \n",
    "  stream = ollama.generate(\n",
    "    stream=True,\n",
    "    model='qwen2.5:1.5b',\n",
    "    prompt=text,\n",
    "    )\n",
    " \n",
    "  print('-----------------------------------------')\n",
    "  for chunk in stream:\n",
    "    if not chunk['done']:\n",
    "      print(chunk['response'], end='', flush=True)\n",
    "    else:\n",
    "      print('\\n')\n",
    "      print('-----------------------------------------')\n",
    "      print(f'总耗时：{chunk['total_duration']}')\n",
    "      print('-----------------------------------------')\n",
    "\n",
    "# 流式输出\n",
    "api_generate(text='天空为什么是蓝色的？')"
   ]
  },
  {
   "cell_type": "code",
   "execution_count": 8,
   "metadata": {},
   "outputs": [
    {
     "name": "stderr",
     "output_type": "stream",
     "text": [
      "\u001b[32m2025-01-16 08:01:52.143\u001b[0m | \u001b[1mINFO    \u001b[0m | \u001b[36mollama_qw\u001b[0m:\u001b[36mchat\u001b[0m:\u001b[36m27\u001b[0m - \u001b[1minput message: {'role': 'user', 'content': '你好啊'}\u001b[0m\n",
      "\u001b[32m2025-01-16 08:01:55.225\u001b[0m | \u001b[1mINFO    \u001b[0m | \u001b[36mollama_qw\u001b[0m:\u001b[36mollama_chat\u001b[0m:\u001b[36m21\u001b[0m - \u001b[1mmodel response is: model='qwen2.5:3b' created_at='2025-01-16T00:01:55.2233625Z' done=True done_reason='stop' total_duration=3075800900 load_duration=2078211700 prompt_eval_count=277 prompt_eval_duration=205000000 eval_count=41 eval_duration=477000000 message=Message(role='assistant', content='你好！有什么可以帮助你的吗？你可以告诉我你想做什么，无论是设置闹钟、打开某个程序还是其他任何事情。如果你只是想找个人聊聊，也欢迎你跟我分享一下你的日常。', images=None, tool_calls=None)\u001b[0m\n"
     ]
    },
    {
     "name": "stdout",
     "output_type": "stream",
     "text": [
      "Alice: 你好！有什么可以帮助你的吗？你可以告诉我你想做什么，无论是设置闹钟、打开某个程序还是其他任何事情。如果你只是想找个人聊聊，也欢迎你跟我分享一下你的日常。\n"
     ]
    },
    {
     "name": "stderr",
     "output_type": "stream",
     "text": [
      "\u001b[32m2025-01-16 08:02:24.692\u001b[0m | \u001b[1mINFO    \u001b[0m | \u001b[36mollama_qw\u001b[0m:\u001b[36mchat\u001b[0m:\u001b[36m27\u001b[0m - \u001b[1minput message: {'role': 'user', 'content': 'exit'}\u001b[0m\n",
      "\u001b[32m2025-01-16 08:02:25.200\u001b[0m | \u001b[1mINFO    \u001b[0m | \u001b[36mollama_qw\u001b[0m:\u001b[36mollama_chat\u001b[0m:\u001b[36m21\u001b[0m - \u001b[1mmodel response is: model='qwen2.5:3b' created_at='2025-01-16T00:02:25.1988576Z' done=True done_reason='stop' total_duration=504568200 load_duration=11500500 prompt_eval_count=328 prompt_eval_duration=8000000 eval_count=40 eval_duration=476000000 message=Message(role='assistant', content='好的，如果你需要退出或者结束我们的对话，可以说“退出”或直接说“再见”。不过在此之前，我还有一些问题可以回答或帮助处理哦。有什么我可以帮你做的吗？', images=None, tool_calls=None)\u001b[0m\n"
     ]
    },
    {
     "name": "stdout",
     "output_type": "stream",
     "text": [
      "Alice: 好的，如果你需要退出或者结束我们的对话，可以说“退出”或直接说“再见”。不过在此之前，我还有一些问题可以回答或帮助处理哦。有什么我可以帮你做的吗？\n"
     ]
    }
   ],
   "source": [
    "\n",
    "def main():\n",
    "    while True:\n",
    "        msg = input(\">: \")\n",
    "        if msg.lower() == '/exit':\n",
    "            break\n",
    "        res = qw.chat(msg)\n",
    "        print(f\"Alice: {res['content']}\")\n",
    "main()"
   ]
  },
  {
   "cell_type": "code",
   "execution_count": 5,
   "metadata": {},
   "outputs": [],
   "source": [
    "import tkinter as tk\n",
    "\n",
    "class CLIWindow:\n",
    "    def __init__(self, root):\n",
    "        self.root = root\n",
    "        self.root.title(\"CLI 样式窗口\")\n",
    "        self.root.geometry(\"600x300+100+100\")\n",
    "        self.root.overrideredirect(True)  # 移除窗口装饰\n",
    "        self.root.attributes(\"-alpha\", 0.95)  # 设置透明度\n",
    "        self.root.attributes(\"-transparentcolor\", \"green\")  # 设置透明色\n",
    "        self.root.attributes(\"-topmost\", True)  # 窗口置顶\n",
    "        self.root.config(bg=\"green\")\n",
    "\n",
    "        self.text_lines = [\"Welcome!\", \"Type 'exit' to quit.\", \"> \"]  # 初始文本\n",
    "\n",
    "        # 文本显示区\n",
    "        self.text_display = tk.Text(\n",
    "            root, bg=\"black\", fg=\"white\", font=(\"Consolas\", 14),\n",
    "            wrap=tk.WORD, bd=0, state=tk.NORMAL, height=10\n",
    "        )\n",
    "        self.text_display.pack(fill=tk.BOTH, expand=True, padx=10, pady=10)\n",
    "        self.text_display.insert(tk.END, \"\\n\".join(self.text_lines))\n",
    "        self.text_display.mark_set(\"input_start\", \"end-1c\")  # 输入起点标记\n",
    "        self.text_display.mark_gravity(\"input_start\", tk.LEFT)\n",
    "\n",
    "        # 绑定回车事件\n",
    "        self.text_display.bind(\"<Return>\", self.handle_input)\n",
    "        self.text_display.bind(\"<Key>\", self.prevent_cursor_movement)\n",
    "\n",
    "        # 允许拖动窗口\n",
    "        root.bind(\"<B1-Motion>\", self.move_window)\n",
    "\n",
    "    def handle_input(self, event):\n",
    "        \"\"\"处理用户输入\"\"\"\n",
    "        # 获取输入内容\n",
    "        input_start_index = self.text_display.index(\"input_start\")\n",
    "        user_input = self.text_display.get(input_start_index, \"end-1c\").strip()\n",
    "\n",
    "        if user_input.lower() == \"exit\":  # 输入 \"exit\" 退出程序\n",
    "            self.root.destroy()\n",
    "            return \"break\"\n",
    "\n",
    "        # 添加用户输入和处理结果\n",
    "        response = f\"Alice: {user_input}\"\n",
    "        self.text_lines.append(f\"Aki: {user_input}\")\n",
    "        self.text_lines.append(response)\n",
    "        self.text_lines.append(\"> \")\n",
    "        self.text_lines = self.text_lines[-5:]  # 保留最近三行\n",
    "\n",
    "        # 更新显示区域\n",
    "        self.update_display()\n",
    "        return \"break\"\n",
    "\n",
    "    def update_display(self):\n",
    "        \"\"\"更新文本显示区域\"\"\"\n",
    "        self.text_display.delete(1.0, tk.END)\n",
    "        self.text_display.insert(tk.END, \"\\n\".join(self.text_lines))\n",
    "        self.text_display.mark_set(\"input_start\", \"end-1c\")  # 更新输入起点\n",
    "        self.text_display.see(tk.END)  # 滚动到底部\n",
    "\n",
    "    def prevent_cursor_movement(self, event):\n",
    "        \"\"\"防止光标移动到输入区域之外\"\"\"\n",
    "        cursor_index = self.text_display.index(\"insert\")\n",
    "        input_start_index = self.text_display.index(\"input_start\")\n",
    "        if cursor_index < input_start_index:\n",
    "            self.text_display.mark_set(\"insert\", \"end-1c\")\n",
    "        return None\n",
    "\n",
    "    def move_window(self, event):\n",
    "        \"\"\"允许拖动窗口\"\"\"\n",
    "        self.root.geometry(f\"+{event.x_root}+{event.y_root}\")\n",
    "\n",
    "\n",
    "# 创建主窗口\n",
    "root = tk.Tk()\n",
    "app = CLIWindow(root)\n",
    "root.mainloop()"
   ]
  }
 ],
 "metadata": {
  "kernelspec": {
   "display_name": "ai",
   "language": "python",
   "name": "python3"
  },
  "language_info": {
   "codemirror_mode": {
    "name": "ipython",
    "version": 3
   },
   "file_extension": ".py",
   "mimetype": "text/x-python",
   "name": "python",
   "nbconvert_exporter": "python",
   "pygments_lexer": "ipython3",
   "version": "3.13.1"
  }
 },
 "nbformat": 4,
 "nbformat_minor": 2
}
