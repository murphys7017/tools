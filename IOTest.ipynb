{
 "cells": [
  {
   "cell_type": "code",
   "execution_count": null,
   "metadata": {},
   "outputs": [],
   "source": [
    "import os\n",
    "class SysMain(object):\n",
    "    def __init__(self, *args, **kwargs):\n",
    "        self.config_file_path = kwargs.get('Config','Config.yml')\n",
    "        import yaml\n",
    "        with open('Config.yml', 'r', encoding='utf-8') as file:\n",
    "            self.config = yaml.load(file, Loader=yaml.FullLoader)\n",
    "    def generate_name_path_map(self,folder_paths):\n",
    "        pgo = {}\n",
    "        for folder_path in folder_paths:\n",
    "            for filepath,dirnames,filenames in os.walk(folder_path):\n",
    "                for filename in filenames:\n",
    "                    if filename.endswith('.lnk') or filename.endswith('.exe'):\n",
    "                        name = filename.split('.')[0]\n",
    "                        flg = not any(key in name or key == name for key in self.config['SystemPath']['Programs']['Exclude']['Name'].split(',')+self.config['SystemPath']['Programs']['Exclude']['Path'].split(','))\n",
    "                        if flg:\n",
    "                            pgo[name] = os.path.join(filepath, filename)\n",
    "        return pgo"
   ]
  },
  {
   "cell_type": "code",
   "execution_count": null,
   "metadata": {},
   "outputs": [],
   "source": [
    "from tools.tool_config import generate_tools_desc,tools_desc\n",
    "\n",
    "generate_tools_desc()"
   ]
  },
  {
   "cell_type": "code",
   "execution_count": null,
   "metadata": {},
   "outputs": [],
   "source": [
    "tools_desc"
   ]
  },
  {
   "cell_type": "code",
   "execution_count": null,
   "metadata": {},
   "outputs": [],
   "source": [
    "import yaml\n",
    "with open('Config.yml', 'r', encoding='utf-8') as file:\n",
    "    config = yaml.load(file, Loader=yaml.FullLoader)\n",
    "config"
   ]
  },
  {
   "cell_type": "code",
   "execution_count": null,
   "metadata": {},
   "outputs": [],
   "source": [
    "generate_tools_desc()"
   ]
  },
  {
   "cell_type": "code",
   "execution_count": 1,
   "metadata": {},
   "outputs": [
    {
     "name": "stderr",
     "output_type": "stream",
     "text": [
      "\u001b[32m2025-01-15 02:23:27.161\u001b[0m | \u001b[1mINFO    \u001b[0m | \u001b[36mollama_qw\u001b[0m:\u001b[36m__init__\u001b[0m:\u001b[36m19\u001b[0m - \u001b[1m[{'type': 'function', 'function': {'name': 'close_light', 'description': '关掉机箱的灯。', 'parameters': {'type': 'object', 'properties': {}, 'required': []}}}, {'type': 'function', 'function': {'name': 'open_light', 'description': '打开机箱的灯。', 'parameters': {'type': 'object', 'properties': {}, 'required': []}}}, {'type': 'function', 'function': {'name': 'run_software', 'description': '打开或者运行程序、软件、应用、脚本等。', 'parameters': {'type': 'object', 'properties': {'software_name': {'type': 'string', 'description': '需要打开、运行或者执行的软件程序或者脚本的名称', 'enum': ['Administrative Tools', 'File Explorer', 'Ollama', 'Sonic Suite Companion', 'WPS Office', 'LiveCaptions', 'Magnify', 'Narrator', 'On-Screen Keyboard', 'VoiceAccess', 'Blender 4', 'DirectX修复工具', 'GW-SOUL', 'Unwise', 'KOOK', 'LetsVPN', 'Overwolf', 'Valorant Tracker', 'Postman', 'Raspberry Pi Imager', 'OpenRGB', 'SakuraLauncher_8a49d589b8997c26e5fe8ca0c8308d23', 'Steam', 'Command Prompt', 'Control Panel', 'Run', 'Ubisoft Connect', 'Uplay', 'Install RELEASE (Ubuntu-22', 'WeMod', 'Windows PowerShell (x86)', 'Windows PowerShell', '小K直播姬', '百度网盘', '360安全卫士', '360安全防护中心', '7-Zip File Manager', 'Remote Desktop Connection', 'Steps Recorder', 'Windows Media Player Legacy', 'Character Map', 'Component Services', 'Computer Management', 'dfrgui', 'Disk Cleanup', 'Event Viewer', 'Hyper-V Manager', 'iSCSI Initiator', 'Memory Diagnostics Tool', 'ODBC Data Sources (32-bit)', 'ODBC Data Sources (64-bit)', 'Performance Monitor', 'Print Management', 'RecoveryDrive', 'Registry Editor', 'Resource Monitor', 'Security Configuration Management', 'services', 'System Configuration', 'System Information', 'Task Scheduler', 'VMCreate', 'Windows Defender Firewall with Advanced Security', 'CMake (cmake-gui)', 'CMake Documentation', 'CPU-Z', 'Edit CPU-Z Config File', 'DAREU Driver', 'DBeaver', '三角洲行动', 'App Recovery', 'EA app 更新程序', 'EA Error Reporter', 'EA Updater', 'EA', '无限暖暖', 'IntelliJ IDEA 2023', 'Live2D Cubism Editor 5', 'Live2D Cubism Viewer 5', 'Website', 'Logitech G HUB', 'Mouse without Borders', 'Anaconda Powershell Prompt (Miniconda)', 'Anaconda Prompt (Miniconda)', 'nvm', 'OBS Studio (64bit)', 'PotPlayer 64 bit', 'Riot Client', 'Riot客户端', 'VALORANT', 'SakuraFrp 启动器', 'Task Manager', 'ToDesk', 'Typora', 'Debuggable Package Manager', 'Developer Command Prompt for VS 2019', 'Developer PowerShell for VS 2019', 'x64 Native Tools Command Prompt for VS 2019', 'x64_x86 Cross Tools Command Prompt for VS 2019', 'x86 Native Tools Command Prompt for VS 2019', 'x86_x64 Cross Tools Command Prompt for VS 2019', 'Visual Studio Code', 'Windows PowerShell ISE (x86)', 'Windows PowerShell ISE', 'uninstall', '哔哩哔哩直播姬', '守望先锋', 'MiService', 'MIUI+', '尘白禁区', '微信', 'letsvpn -', '无畏契约', '暴雪战网', '网易云音乐', 'QQ', '腾讯QQ', 'QQ音乐', '听歌识曲', 'DingTalk Official Website', '钉钉']}}, 'required': ['software_name']}}}]\u001b[0m\n"
     ]
    }
   ],
   "source": [
    "from tools.tool_config import generate_tools_desc\n",
    "from ollama_qw import OllamaQW\n",
    "qw = OllamaQW(model_name='qwen2.5:3b',tools=generate_tools_desc())"
   ]
  },
  {
   "cell_type": "code",
   "execution_count": 2,
   "metadata": {},
   "outputs": [
    {
     "name": "stderr",
     "output_type": "stream",
     "text": [
      "\u001b[32m2025-01-15 02:23:42.280\u001b[0m | \u001b[1mINFO    \u001b[0m | \u001b[36mollama_qw\u001b[0m:\u001b[36mchat\u001b[0m:\u001b[36m23\u001b[0m - \u001b[1minput message: {'role': 'user', 'content': '打开QQ音乐'}\u001b[0m\n",
      "\u001b[32m2025-01-15 02:23:43.985\u001b[0m | \u001b[1mINFO    \u001b[0m | \u001b[36mollama_qw\u001b[0m:\u001b[36mchat\u001b[0m:\u001b[36m30\u001b[0m - \u001b[1mmodel response is: model='qwen2.5:3b' created_at='2025-01-14T18:23:43.9847329Z' done=True done_reason='stop' total_duration=1702784200 load_duration=1069245700 prompt_eval_count=257 prompt_eval_duration=166000000 eval_count=23 eval_duration=242000000 message=Message(role='assistant', content='', images=None, tool_calls=[ToolCall(function=Function(name='run_software', arguments={'software_name': 'QQ Music'}))])\u001b[0m\n",
      "\u001b[32m2025-01-15 02:23:43.986\u001b[0m | \u001b[1mINFO    \u001b[0m | \u001b[36mollama_qw\u001b[0m:\u001b[36mchat\u001b[0m:\u001b[36m36\u001b[0m - \u001b[1mfunction name: run_software\u001b[0m\n",
      "\u001b[32m2025-01-15 02:23:43.986\u001b[0m | \u001b[1mINFO    \u001b[0m | \u001b[36mollama_qw\u001b[0m:\u001b[36mchat\u001b[0m:\u001b[36m37\u001b[0m - \u001b[1mfunction args: {'software_name': 'QQ Music'}\u001b[0m\n",
      "\u001b[32m2025-01-15 02:23:43.987\u001b[0m | \u001b[1mINFO    \u001b[0m | \u001b[36mollama_qw\u001b[0m:\u001b[36mchat\u001b[0m:\u001b[36m46\u001b[0m - \u001b[1mtool response is: {'role': 'tool', 'name': 'run_software', 'content': None}\u001b[0m\n"
     ]
    },
    {
     "name": "stdout",
     "output_type": "stream",
     "text": [
      "Running software QQ Music\n"
     ]
    },
    {
     "name": "stderr",
     "output_type": "stream",
     "text": [
      "\u001b[32m2025-01-15 02:23:44.450\u001b[0m | \u001b[1mINFO    \u001b[0m | \u001b[36mollama_qw\u001b[0m:\u001b[36mchat\u001b[0m:\u001b[36m53\u001b[0m - \u001b[1mmodel response is: model='qwen2.5:3b' created_at='2025-01-14T18:23:44.4488547Z' done=True done_reason='stop' total_duration=460590700 load_duration=15609300 prompt_eval_count=296 prompt_eval_duration=5000000 eval_count=40 eval_duration=432000000 message=Message(role='assistant', content='已经打开了QQ音乐，请问接下来有什么可以帮助你的吗？你可以告诉我歌曲名，我可以帮你播放。或者你是否想听其他类型的音乐？如果你有任何需要帮助的事情，请随时告诉我。', images=None, tool_calls=None)\u001b[0m\n"
     ]
    },
    {
     "name": "stdout",
     "output_type": "stream",
     "text": [
      "Alice: 已经打开了QQ音乐，请问接下来有什么可以帮助你的吗？你可以告诉我歌曲名，我可以帮你播放。或者你是否想听其他类型的音乐？如果你有任何需要帮助的事情，请随时告诉我。\n"
     ]
    }
   ],
   "source": [
    "\n",
    "def main():\n",
    "    while True:\n",
    "        msg = input(\">: \")\n",
    "        if msg.lower() == 'exit':\n",
    "            break\n",
    "        res = qw.chat(msg)\n",
    "        print(f\"Alice: {res['content']}\")\n",
    "main()"
   ]
  },
  {
   "cell_type": "code",
   "execution_count": null,
   "metadata": {},
   "outputs": [],
   "source": [
    "import importlib\n",
    "module_name = 'tools.tool_list'\n",
    "module = importlib.import_module(module_name)\n",
    "module"
   ]
  }
 ],
 "metadata": {
  "kernelspec": {
   "display_name": "ai",
   "language": "python",
   "name": "python3"
  },
  "language_info": {
   "codemirror_mode": {
    "name": "ipython",
    "version": 3
   },
   "file_extension": ".py",
   "mimetype": "text/x-python",
   "name": "python",
   "nbconvert_exporter": "python",
   "pygments_lexer": "ipython3",
   "version": "3.13.1"
  }
 },
 "nbformat": 4,
 "nbformat_minor": 2
}
