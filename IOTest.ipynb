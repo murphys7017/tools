{
 "cells": [
  {
   "cell_type": "code",
   "execution_count": 1,
   "metadata": {},
   "outputs": [
    {
     "name": "stderr",
     "output_type": "stream",
     "text": [
      "\u001b[32m2025-01-15 08:05:39.820\u001b[0m | \u001b[1mINFO    \u001b[0m | \u001b[36mollama_qw\u001b[0m:\u001b[36m__init__\u001b[0m:\u001b[36m12\u001b[0m - \u001b[1m[{'type': 'function', 'function': {'name': 'close_light', 'description': '关掉机箱的灯。', 'parameters': {'type': 'object', 'properties': {}, 'required': []}}}, {'type': 'function', 'function': {'name': 'open_light', 'description': '打开机箱的灯。', 'parameters': {'type': 'object', 'properties': {}, 'required': []}}}, {'type': 'function', 'function': {'name': 'run_software', 'description': '打开或者运行程序、软件、应用、脚本等。', 'parameters': {'type': 'object', 'properties': {'software_name': {'type': 'string', 'description': '需要打开或者运行的程序的简称或者别称，从enum中选择最相符的传入需要打开、运行或者执行的软件程序或者脚本的名称', 'enum': ['administrative tools', 'file explorer', 'ollama', 'sonic suite companion', 'wps office', 'livecaptions', 'magnify', 'narrator', 'on-screen keyboard', 'voiceaccess', 'blender 4', 'directx修复工具', 'gw-soul', 'unwise', 'kook', 'letsvpn', 'overwolf', 'valorant tracker', 'postman', 'raspberry pi imager', 'openrgb', 'sakuralauncher_8a49d589b8997c26e5fe8ca0c8308d23', 'steam', 'command prompt', 'control panel', 'run', 'ubisoft connect', 'uplay', 'install release (ubuntu-22', 'wemod', 'windows powershell (x86)', 'windows powershell', '小k直播姬', '百度网盘', '360安全卫士', '360安全防护中心', '7-zip file manager', 'remote desktop connection', 'steps recorder', 'windows media player legacy', 'character map', 'component services', 'computer management', 'dfrgui', 'disk cleanup', 'event viewer', 'hyper-v manager', 'iscsi initiator', 'memory diagnostics tool', 'odbc data sources (32-bit)', 'odbc data sources (64-bit)', 'performance monitor', 'print management', 'recoverydrive', 'registry editor', 'resource monitor', 'security configuration management', 'services', 'system configuration', 'system information', 'task scheduler', 'vmcreate', 'windows defender firewall with advanced security', 'cmake (cmake-gui)', 'cmake documentation', 'cpu-z', 'edit cpu-z config file', 'dareu driver', 'dbeaver', '三角洲行动', 'app recovery', 'ea app 更新程序', 'ea error reporter', 'ea updater', 'ea', '无限暖暖', 'intellij idea 2023', 'live2d cubism editor 5', 'live2d cubism viewer 5', 'website', 'logitech g hub', 'mouse without borders', 'anaconda powershell prompt (miniconda)', 'anaconda prompt (miniconda)', 'nvm', 'obs studio (64bit)', 'potplayer 64 bit', 'riot client', 'riot客户端', 'valorant', 'sakurafrp 启动器', 'task manager', 'todesk', 'typora', 'debuggable package manager', 'developer command prompt for vs 2019', 'developer powershell for vs 2019', 'x64 native tools command prompt for vs 2019', 'x64_x86 cross tools command prompt for vs 2019', 'x86 native tools command prompt for vs 2019', 'x86_x64 cross tools command prompt for vs 2019', 'visual studio code', 'windows powershell ise (x86)', 'windows powershell ise', 'uninstall', '哔哩哔哩直播姬', '守望先锋', 'miservice', 'miui+', '尘白禁区', '微信', 'letsvpn -', '无畏契约', '暴雪战网', '网易云音乐', 'qq', '腾讯qq', 'qq音乐', '听歌识曲', 'dingtalk official website', '钉钉']}}, 'required': ['software_name']}}}]\u001b[0m\n"
     ]
    }
   ],
   "source": [
    "from ollama_qw import OllamaQW\n",
    "qw = OllamaQW()"
   ]
  },
  {
   "cell_type": "code",
   "execution_count": 2,
   "metadata": {},
   "outputs": [
    {
     "name": "stderr",
     "output_type": "stream",
     "text": [
      "\u001b[32m2025-01-15 08:05:56.678\u001b[0m | \u001b[1mINFO    \u001b[0m | \u001b[36mollama_qw\u001b[0m:\u001b[36mchat\u001b[0m:\u001b[36m27\u001b[0m - \u001b[1minput message: {'role': 'user', 'content': 'Alice帮我打开cpuz'}\u001b[0m\n",
      "\u001b[32m2025-01-15 08:05:58.360\u001b[0m | \u001b[1mINFO    \u001b[0m | \u001b[36mollama_qw\u001b[0m:\u001b[36mollama_chat\u001b[0m:\u001b[36m21\u001b[0m - \u001b[1mmodel response is: model='qwen2.5:3b' created_at='2025-01-15T00:05:58.3588261Z' done=True done_reason='stop' total_duration=1679285600 load_duration=1068546000 prompt_eval_count=280 prompt_eval_duration=159000000 eval_count=23 eval_duration=235000000 message=Message(role='assistant', content='', images=None, tool_calls=[ToolCall(function=Function(name='run_software', arguments={'software_name': 'cpuz'}))])\u001b[0m\n",
      "\u001b[32m2025-01-15 08:05:58.360\u001b[0m | \u001b[1mINFO    \u001b[0m | \u001b[36mollama_qw\u001b[0m:\u001b[36mchat\u001b[0m:\u001b[36m35\u001b[0m - \u001b[1mfunction name: run_software\u001b[0m\n",
      "\u001b[32m2025-01-15 08:05:58.361\u001b[0m | \u001b[1mINFO    \u001b[0m | \u001b[36mollama_qw\u001b[0m:\u001b[36mchat\u001b[0m:\u001b[36m36\u001b[0m - \u001b[1mfunction args: {'software_name': 'cpuz'}\u001b[0m\n"
     ]
    },
    {
     "ename": "TypeError",
     "evalue": "unhashable type: 'list'",
     "output_type": "error",
     "traceback": [
      "\u001b[1;31m---------------------------------------------------------------------------\u001b[0m",
      "\u001b[1;31mTypeError\u001b[0m                                 Traceback (most recent call last)",
      "Cell \u001b[1;32mIn[2], line 8\u001b[0m\n\u001b[0;32m      6\u001b[0m         res \u001b[38;5;241m=\u001b[39m qw\u001b[38;5;241m.\u001b[39mchat(msg)\n\u001b[0;32m      7\u001b[0m         \u001b[38;5;28mprint\u001b[39m(\u001b[38;5;124mf\u001b[39m\u001b[38;5;124m\"\u001b[39m\u001b[38;5;124mAlice: \u001b[39m\u001b[38;5;132;01m{\u001b[39;00mres[\u001b[38;5;124m'\u001b[39m\u001b[38;5;124mcontent\u001b[39m\u001b[38;5;124m'\u001b[39m]\u001b[38;5;132;01m}\u001b[39;00m\u001b[38;5;124m\"\u001b[39m)\n\u001b[1;32m----> 8\u001b[0m \u001b[43mmain\u001b[49m\u001b[43m(\u001b[49m\u001b[43m)\u001b[49m\n",
      "Cell \u001b[1;32mIn[2], line 6\u001b[0m, in \u001b[0;36mmain\u001b[1;34m()\u001b[0m\n\u001b[0;32m      4\u001b[0m \u001b[38;5;28;01mif\u001b[39;00m msg\u001b[38;5;241m.\u001b[39mlower() \u001b[38;5;241m==\u001b[39m \u001b[38;5;124m'\u001b[39m\u001b[38;5;124m/exit\u001b[39m\u001b[38;5;124m'\u001b[39m:\n\u001b[0;32m      5\u001b[0m     \u001b[38;5;28;01mbreak\u001b[39;00m\n\u001b[1;32m----> 6\u001b[0m res \u001b[38;5;241m=\u001b[39m \u001b[43mqw\u001b[49m\u001b[38;5;241;43m.\u001b[39;49m\u001b[43mchat\u001b[49m\u001b[43m(\u001b[49m\u001b[43mmsg\u001b[49m\u001b[43m)\u001b[49m\n\u001b[0;32m      7\u001b[0m \u001b[38;5;28mprint\u001b[39m(\u001b[38;5;124mf\u001b[39m\u001b[38;5;124m\"\u001b[39m\u001b[38;5;124mAlice: \u001b[39m\u001b[38;5;132;01m{\u001b[39;00mres[\u001b[38;5;124m'\u001b[39m\u001b[38;5;124mcontent\u001b[39m\u001b[38;5;124m'\u001b[39m]\u001b[38;5;132;01m}\u001b[39;00m\u001b[38;5;124m\"\u001b[39m)\n",
      "File \u001b[1;32mc:\\Users\\Administrator\\Documents\\BaiduSyncdisk\\Code\\tools\\ollama_qw.py:37\u001b[0m, in \u001b[0;36mOllamaQW.chat\u001b[1;34m(self, msg)\u001b[0m\n\u001b[0;32m     35\u001b[0m logger\u001b[38;5;241m.\u001b[39minfo(\u001b[38;5;124mf\u001b[39m\u001b[38;5;124m\"\u001b[39m\u001b[38;5;124mfunction name: \u001b[39m\u001b[38;5;132;01m{\u001b[39;00mfn_name\u001b[38;5;132;01m}\u001b[39;00m\u001b[38;5;124m\"\u001b[39m)\n\u001b[0;32m     36\u001b[0m logger\u001b[38;5;241m.\u001b[39minfo(\u001b[38;5;124mf\u001b[39m\u001b[38;5;124m\"\u001b[39m\u001b[38;5;124mfunction args: \u001b[39m\u001b[38;5;132;01m{\u001b[39;00mfn_args\u001b[38;5;132;01m}\u001b[39;00m\u001b[38;5;124m\"\u001b[39m)\n\u001b[1;32m---> 37\u001b[0m fn_res \u001b[38;5;241m=\u001b[39m \u001b[43mtool_config\u001b[49m\u001b[38;5;241;43m.\u001b[39;49m\u001b[43mget_tool_res\u001b[49m\u001b[43m(\u001b[49m\u001b[43mfn_name\u001b[49m\u001b[43m,\u001b[49m\u001b[43m \u001b[49m\u001b[43mfn_args\u001b[49m\u001b[43m)\u001b[49m\n\u001b[0;32m     39\u001b[0m \u001b[38;5;28mself\u001b[39m\u001b[38;5;241m.\u001b[39mmessages\u001b[38;5;241m.\u001b[39mappend({\n\u001b[0;32m     40\u001b[0m     \u001b[38;5;124m\"\u001b[39m\u001b[38;5;124mrole\u001b[39m\u001b[38;5;124m\"\u001b[39m: \u001b[38;5;124m\"\u001b[39m\u001b[38;5;124mtool\u001b[39m\u001b[38;5;124m\"\u001b[39m,\n\u001b[0;32m     41\u001b[0m     \u001b[38;5;124m\"\u001b[39m\u001b[38;5;124mname\u001b[39m\u001b[38;5;124m\"\u001b[39m: fn_name,\n\u001b[0;32m     42\u001b[0m     \u001b[38;5;124m\"\u001b[39m\u001b[38;5;124mcontent\u001b[39m\u001b[38;5;124m\"\u001b[39m: fn_res,\n\u001b[0;32m     43\u001b[0m })\n\u001b[0;32m     44\u001b[0m logger\u001b[38;5;241m.\u001b[39minfo(\u001b[38;5;124mf\u001b[39m\u001b[38;5;124m\"\u001b[39m\u001b[38;5;124mtool response is: \u001b[39m\u001b[38;5;132;01m{\u001b[39;00m\u001b[38;5;28mself\u001b[39m\u001b[38;5;241m.\u001b[39mmessages[\u001b[38;5;241m-\u001b[39m\u001b[38;5;241m1\u001b[39m]\u001b[38;5;132;01m}\u001b[39;00m\u001b[38;5;124m\"\u001b[39m)\n",
      "File \u001b[1;32mc:\\Users\\Administrator\\Documents\\BaiduSyncdisk\\Code\\tools\\tools\\tool_config.py:62\u001b[0m, in \u001b[0;36mget_tool_res\u001b[1;34m(fn_name, fn_args)\u001b[0m\n\u001b[0;32m     60\u001b[0m \u001b[38;5;28;01mdef\u001b[39;00m\u001b[38;5;250m \u001b[39m\u001b[38;5;21mget_tool_res\u001b[39m(fn_name,fn_args):\n\u001b[0;32m     61\u001b[0m     my_function \u001b[38;5;241m=\u001b[39m \u001b[38;5;28mgetattr\u001b[39m(module, fn_name)\n\u001b[1;32m---> 62\u001b[0m     fn_res: \u001b[38;5;28mstr\u001b[39m \u001b[38;5;241m=\u001b[39m \u001b[43mmy_function\u001b[49m\u001b[43m(\u001b[49m\u001b[38;5;241;43m*\u001b[39;49m\u001b[38;5;241;43m*\u001b[39;49m\u001b[43mfn_args\u001b[49m\u001b[43m)\u001b[49m\n\u001b[0;32m     63\u001b[0m     \u001b[38;5;28;01mreturn\u001b[39;00m json\u001b[38;5;241m.\u001b[39mdumps(fn_res)\n",
      "File \u001b[1;32mc:\\Users\\Administrator\\Documents\\BaiduSyncdisk\\Code\\tools\\tools\\tool_list.py:34\u001b[0m, in \u001b[0;36mrun_software\u001b[1;34m(software_name)\u001b[0m\n\u001b[0;32m     32\u001b[0m key \u001b[38;5;241m=\u001b[39m difflib\u001b[38;5;241m.\u001b[39mget_close_matches(software_name\u001b[38;5;241m.\u001b[39mlower(),StatMenuSoftware\u001b[38;5;241m.\u001b[39mkeys(),\u001b[38;5;241m1\u001b[39m, cutoff\u001b[38;5;241m=\u001b[39m\u001b[38;5;241m0.5\u001b[39m)\n\u001b[0;32m     33\u001b[0m \u001b[38;5;28;01mif\u001b[39;00m \u001b[38;5;28mlen\u001b[39m(key) \u001b[38;5;241m>\u001b[39m \u001b[38;5;241m0\u001b[39m:\n\u001b[1;32m---> 34\u001b[0m     file_path \u001b[38;5;241m=\u001b[39m \u001b[43mStatMenuSoftware\u001b[49m\u001b[43m[\u001b[49m\u001b[43mkey\u001b[49m\u001b[43m]\u001b[49m\n\u001b[0;32m     35\u001b[0m     \u001b[38;5;28;01mif\u001b[39;00m file_path\u001b[38;5;241m.\u001b[39mendswith(\u001b[38;5;124m'\u001b[39m\u001b[38;5;124m.lnk\u001b[39m\u001b[38;5;124m'\u001b[39m):\n\u001b[0;32m     36\u001b[0m         os\u001b[38;5;241m.\u001b[39mstartfile(file_path)\n",
      "\u001b[1;31mTypeError\u001b[0m: unhashable type: 'list'"
     ]
    }
   ],
   "source": [
    "\n",
    "def main():\n",
    "    while True:\n",
    "        msg = input(\">: \")\n",
    "        if msg.lower() == '/exit':\n",
    "            break\n",
    "        res = qw.chat(msg)\n",
    "        print(f\"Alice: {res['content']}\")\n",
    "main()"
   ]
  },
  {
   "cell_type": "code",
   "execution_count": 6,
   "metadata": {},
   "outputs": [
    {
     "data": {
      "text/plain": [
       "dict_keys(['Administrative Tools', 'File Explorer', 'Ollama', 'Sonic Suite Companion', 'WPS Office', 'LiveCaptions', 'Magnify', 'Narrator', 'On-Screen Keyboard', 'VoiceAccess', 'Blender 4', 'DirectX修复工具', 'GW-SOUL', 'Unwise', 'KOOK', 'LetsVPN', 'Overwolf', 'Valorant Tracker', 'Postman', 'Raspberry Pi Imager', 'OpenRGB', 'SakuraLauncher_8a49d589b8997c26e5fe8ca0c8308d23', 'Steam', 'Command Prompt', 'Control Panel', 'Run', 'Ubisoft Connect', 'Uplay', 'Install RELEASE (Ubuntu-22', 'WeMod', 'Windows PowerShell (x86)', 'Windows PowerShell', '小K直播姬', '百度网盘', '360安全卫士', '360安全防护中心', '7-Zip File Manager', 'Remote Desktop Connection', 'Steps Recorder', 'Windows Media Player Legacy', 'Character Map', 'Component Services', 'Computer Management', 'dfrgui', 'Disk Cleanup', 'Event Viewer', 'Hyper-V Manager', 'iSCSI Initiator', 'Memory Diagnostics Tool', 'ODBC Data Sources (32-bit)', 'ODBC Data Sources (64-bit)', 'Performance Monitor', 'Print Management', 'RecoveryDrive', 'Registry Editor', 'Resource Monitor', 'Security Configuration Management', 'services', 'System Configuration', 'System Information', 'Task Scheduler', 'VMCreate', 'Windows Defender Firewall with Advanced Security', 'CMake (cmake-gui)', 'CMake Documentation', 'CPU-Z', 'Edit CPU-Z Config File', 'DAREU Driver', 'DBeaver', '三角洲行动', 'App Recovery', 'EA app 更新程序', 'EA Error Reporter', 'EA Updater', 'EA', '无限暖暖', 'IntelliJ IDEA 2023', 'Live2D Cubism Editor 5', 'Live2D Cubism Viewer 5', 'Website', 'Logitech G HUB', 'Mouse without Borders', 'Anaconda Powershell Prompt (Miniconda)', 'Anaconda Prompt (Miniconda)', 'nvm', 'OBS Studio (64bit)', 'PotPlayer 64 bit', 'Riot Client', 'Riot客户端', 'VALORANT', 'SakuraFrp 启动器', 'Task Manager', 'ToDesk', 'Typora', 'Debuggable Package Manager', 'Developer Command Prompt for VS 2019', 'Developer PowerShell for VS 2019', 'x64 Native Tools Command Prompt for VS 2019', 'x64_x86 Cross Tools Command Prompt for VS 2019', 'x86 Native Tools Command Prompt for VS 2019', 'x86_x64 Cross Tools Command Prompt for VS 2019', 'Visual Studio Code', 'Windows PowerShell ISE (x86)', 'Windows PowerShell ISE', 'uninstall', '哔哩哔哩直播姬', '守望先锋', 'MiService', 'MIUI+', '尘白禁区', '微信', 'letsvpn -', '无畏契约', '暴雪战网', '网易云音乐', 'QQ', '腾讯QQ', 'QQ音乐', '听歌识曲', 'DingTalk Official Website', '钉钉'])"
      ]
     },
     "execution_count": 6,
     "metadata": {},
     "output_type": "execute_result"
    }
   ],
   "source": [
    "StatMenuSoftware.keys()"
   ]
  },
  {
   "cell_type": "code",
   "execution_count": 21,
   "metadata": {},
   "outputs": [
    {
     "data": {
      "text/plain": [
       "'三角洲'"
      ]
     },
     "execution_count": 21,
     "metadata": {},
     "output_type": "execute_result"
    }
   ],
   "source": [
    "from tools.tool_config import StatMenuSoftware\n",
    "import difflib\n",
    "key = difflib.get_close_matches('CPUZ',StatMenuSoftware.keys(),1, cutoff=0.5)\n",
    "\"三角洲\".lower()"
   ]
  }
 ],
 "metadata": {
  "kernelspec": {
   "display_name": "ai",
   "language": "python",
   "name": "python3"
  },
  "language_info": {
   "codemirror_mode": {
    "name": "ipython",
    "version": 3
   },
   "file_extension": ".py",
   "mimetype": "text/x-python",
   "name": "python",
   "nbconvert_exporter": "python",
   "pygments_lexer": "ipython3",
   "version": "3.13.1"
  }
 },
 "nbformat": 4,
 "nbformat_minor": 2
}
