{
 "cells": [
  {
   "cell_type": "code",
   "execution_count": 1,
   "metadata": {},
   "outputs": [],
   "source": [
    "from PyPDF2 import PdfReader #pdf的读取方法\n",
    "from PyPDF2 import PdfWriter #pdf的写入方法\n",
    "from Crypto.Cipher import AES #高加密的方法，要引入不然会报错\n",
    "\n",
    "def get_reader(filename, password): #读取pdf的方法（自定义函数）\n",
    "    try:\n",
    "        old_file = open(filename, 'rb')\n",
    "        print('解密开始...')\n",
    "    except Exception as err:\n",
    "        return print('文件打开失败！' + str(err))\n",
    "\n",
    "    #如果是python2将PdfReader改为PdfFileReader\n",
    "    pdf_reader = PdfReader(old_file, strict=False) #读取pdf文件\n",
    "\n",
    "    # 如果是python2将is_encrypted改为isEncrypted\n",
    "    if pdf_reader.is_encrypted: #解密操作（以下操作是自适应，不会展示在终端中）\n",
    "        if password is None:\n",
    "            return print('文件被加密，需要密码！--{}'.format(filename))\n",
    "        else:\n",
    "            if pdf_reader.decrypt(password) != 1:\n",
    "                return print('密码不正确！--{}'.format(filename))\n",
    "    elif old_file in locals():\n",
    "        old_file.close() #如果pdf文件已经在本地了就关闭\n",
    "    return pdf_reader #返回读出pdf的值\n",
    "    \n",
    "def deception_pdf(filename, password, decrypted_filename=None): #生成新pdf的方法（自定义函数）\n",
    "    print('正在生成解密...')\n",
    "    pdf_reader = get_reader(filename, password) #得到传入的文件名，和密码（如果密码没有可以不填）\n",
    "    if pdf_reader is None:\n",
    "        return print(\"无内容读取\")\n",
    "\n",
    "    # 如果是python2将is_encrypted改为isEncrypted\n",
    "    elif not pdf_reader.is_encrypted:\n",
    "        return print('文件没有被加密，无需操作')\n",
    "\n",
    "    # 如果是python2将PdfWriter改为PdfFileWriter\n",
    "    pdf_writer = PdfWriter() #写pdf（记录pdf内容）\n",
    "\n",
    "    #如果是python2将append_pages_from_reader改为appendPagesFromReader\n",
    "    pdf_writer.append_pages_from_reader(pdf_reader)\n",
    "\n",
    "    if decrypted_filename is None: #创建解密后的pdf文件和展示文件的路径\n",
    "        decrypted_filename = \"\".join(filename.split('.')[:-1]) + '_' + '已解密' + '.pdf'\n",
    "        print(\"解密文件已生成:{}\".format(decrypted_filename))\n",
    "    # 写入新文件\n",
    "    pdf_writer.write(open(decrypted_filename, 'wb'))\n",
    "\n"
   ]
  },
  {
   "cell_type": "code",
   "execution_count": 2,
   "metadata": {},
   "outputs": [
    {
     "name": "stdout",
     "output_type": "stream",
     "text": [
      "正在生成解密...\n",
      "解密开始...\n",
      "解密文件已生成:D:\\temp\\Downloads\\关于开展河北联通2024年度党建考核暨领导班子和省管干部综合评价工作的通知_已解密.pdf\n"
     ]
    }
   ],
   "source": [
    "# 逗号前面的为需要解密的pdf文件路径，后面的''里面为密码，如果不知道就用不填\n",
    "deception_pdf(r\"D:\\temp\\Downloads\\关于开展河北联通2024年度党建考核暨领导班子和省管干部综合评价工作的通知.pdf\", '')"
   ]
  },
  {
   "cell_type": "code",
   "execution_count": 3,
   "metadata": {},
   "outputs": [
    {
     "name": "stderr",
     "output_type": "stream",
     "text": [
      "[INFO] Start to convert D:\\temp\\Downloads\\关于开展河北联通2024年度党建考核暨领导班子和省管干部综合评价工作的通知.pdf\n",
      "[INFO] \u001b[1;36m[1/4] Opening document...\u001b[0m\n",
      "[INFO] \u001b[1;36m[2/4] Analyzing document...\u001b[0m\n",
      "[INFO] \u001b[1;36m[3/4] Parsing pages...\u001b[0m\n",
      "[INFO] (1/6) Page 1\n",
      "[INFO] (2/6) Page 2\n",
      "[INFO] (3/6) Page 3\n",
      "[INFO] (4/6) Page 4\n",
      "[INFO] (5/6) Page 5\n",
      "[INFO] (6/6) Page 6\n",
      "[INFO] \u001b[1;36m[4/4] Creating pages...\u001b[0m\n",
      "[INFO] (1/6) Page 1\n",
      "[INFO] (2/6) Page 2\n",
      "[INFO] (3/6) Page 3\n",
      "[INFO] (4/6) Page 4\n",
      "[INFO] (5/6) Page 5\n",
      "[INFO] (6/6) Page 6\n",
      "[INFO] Terminated in 1.22s.\n"
     ]
    }
   ],
   "source": [
    "# pdf_to_word_pdf2docx.py\n",
    "from pdf2docx import Converter\n",
    "\n",
    "def pdf_to_word_pdf2docx(pdf_path, word_path):\n",
    "    cv = Converter(pdf_path)\n",
    "    cv.convert(word_path, start=0, end=None)\n",
    "    cv.close()\n",
    "\n",
    "# 使用示例\n",
    "pdf_to_word_pdf2docx(r\"D:\\temp\\Downloads\\关于开展河北联通2024年度党建考核暨领导班子和省管干部综合评价工作的通知.pdf\", 'output.docx')\n"
   ]
  }
 ],
 "metadata": {
  "kernelspec": {
   "display_name": "base",
   "language": "python",
   "name": "python3"
  },
  "language_info": {
   "codemirror_mode": {
    "name": "ipython",
    "version": 3
   },
   "file_extension": ".py",
   "mimetype": "text/x-python",
   "name": "python",
   "nbconvert_exporter": "python",
   "pygments_lexer": "ipython3",
   "version": "3.10.13"
  }
 },
 "nbformat": 4,
 "nbformat_minor": 2
}
