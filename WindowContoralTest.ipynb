{
 "cells": [
  {
   "cell_type": "code",
   "execution_count": 9,
   "metadata": {},
   "outputs": [],
   "source": [
    "import win32gui\n",
    "import win32con\n",
    "import win32api"
   ]
  },
  {
   "cell_type": "code",
   "execution_count": 39,
   "metadata": {},
   "outputs": [],
   "source": [
    "def EnumWindows():\n",
    "    windows = {}\n",
    "    def _MyCallback( hwnd, extra ):\n",
    "        windows = extra\n",
    "        temp={}\n",
    "        temp['hex'] = hex(hwnd)\n",
    "        temp['ClassName'] = win32gui.GetClassName(hwnd)\n",
    "        temp['WindowText'] = win32gui.GetWindowText(hwnd)\n",
    "        windows[hwnd] = temp\n",
    "    win32gui.EnumWindows(_MyCallback, windows)\n",
    "    return windows"
   ]
  },
  {
   "cell_type": "code",
   "execution_count": 16,
   "metadata": {},
   "outputs": [],
   "source": [
    "def EnumChildWindows(hwnd):\n",
    "    windows = {}\n",
    "    def _MyCallback( hwnd, extra ):\n",
    "        windows = extra\n",
    "        temp={}\n",
    "        temp['hex'] = hex(hwnd)\n",
    "        temp['ClassName'] = win32gui.GetClassName(hwnd)\n",
    "        temp['WindowText'] = win32gui.GetWindowText(hwnd)\n",
    "        windows[hwnd] = temp\n",
    "    win32gui.EnumChildWindows(hwnd,_MyCallback, windows)\n",
    "    return windows"
   ]
  },
  {
   "cell_type": "code",
   "execution_count": 21,
   "metadata": {},
   "outputs": [
    {
     "data": {
      "text/plain": [
       "{395806: {'hex': '0x60a1e',\n",
       "  'ClassName': 'ApplicationFrameTitleBarWindow',\n",
       "  'WindowText': ''},\n",
       " 854514: {'hex': '0xd09f2',\n",
       "  'ClassName': 'ApplicationFrameTitleBarWindow',\n",
       "  'WindowText': ''},\n",
       " 526886: {'hex': '0x80a26',\n",
       "  'ClassName': 'ApplicationFrameInputSinkWindow',\n",
       "  'WindowText': ''}}"
      ]
     },
     "execution_count": 21,
     "metadata": {},
     "output_type": "execute_result"
    }
   ],
   "source": [
    "childs = EnumChildWindows('1444364')\n",
    "childs"
   ]
  },
  {
   "cell_type": "code",
   "execution_count": 30,
   "metadata": {},
   "outputs": [
    {
     "name": "stdout",
     "output_type": "stream",
     "text": [
      "设置\n"
     ]
    }
   ],
   "source": [
    "child_text = win32gui.GetWindowText('1444364')\n",
    "print(child_text)"
   ]
  },
  {
   "cell_type": "code",
   "execution_count": 50,
   "metadata": {},
   "outputs": [
    {
     "data": {
      "text/plain": [
       "[395806, 854514, 526886]"
      ]
     },
     "execution_count": 50,
     "metadata": {},
     "output_type": "execute_result"
    }
   ],
   "source": [
    "# 搜索子窗口\n",
    "# 枚举子窗口\n",
    "hwndChildList = []\n",
    "win32gui.EnumChildWindows('1444364', lambda hwnd, param: param.append(hwnd),  hwndChildList)\n",
    "hwndChildList"
   ]
  },
  {
   "cell_type": "code",
   "execution_count": 87,
   "metadata": {},
   "outputs": [],
   "source": [
    "import cv2\n",
    "import numpy as np\n",
    "from ctypes import windll\n",
    "import win32gui\n",
    "import win32ui\n",
    " \n",
    " \n",
    "def capture_win_alt(hwnd=None, program_windowTitle=None, program_className=None,img_name='temp.png'):\n",
    "    # Adapted from https://stackoverflow.com/questions/19695214/screenshot-of-inactive-window-printwindow-win32gui\n",
    "    if hwnd is None:\n",
    "        windll.user32.SetProcessDPIAware()\n",
    "        windows = EnumWindows()\n",
    "        for key,item in windows.items() :\n",
    "            if item['ClassName'] == program_className:\n",
    "                if program_windowTitle != None:\n",
    "                    if program_windowTitle in item['WindowText'] or program_windowTitle == item['WindowText']:\n",
    "                        program_windowTitle = item['WindowText']\n",
    "                        hwnd = key\n",
    "                        print(key,item)\n",
    "                        break;\n",
    "                    else:\n",
    "                        hwnd = key\n",
    "                        print(key,item)\n",
    "                        break;\n",
    "    if not hwnd:\n",
    "        hwnd = win32gui.FindWindow(program_className, program_windowTitle)\n",
    "        # hwnd = win32gui.FindWindowEx(0, 0, program_className, program_windowTitle)\n",
    "    if not hwnd:\n",
    "        return None\n",
    "    left, top, right, bottom = win32gui.GetClientRect(hwnd)\n",
    "    w = right - left\n",
    "    h = bottom - top\n",
    "    hwnd_dc = win32gui.GetWindowDC(hwnd)\n",
    "    mfc_dc = win32ui.CreateDCFromHandle(hwnd_dc)\n",
    "    save_dc = mfc_dc.CreateCompatibleDC()\n",
    "    bitmap = win32ui.CreateBitmap()\n",
    "    bitmap.CreateCompatibleBitmap(mfc_dc, w, h)\n",
    "    save_dc.SelectObject(bitmap)\n",
    "    # If Special K is running, this number is 3. If not, 1\n",
    "    result = windll.user32.PrintWindow(hwnd, save_dc.GetSafeHdc(), 3)\n",
    "    bmpinfo = bitmap.GetInfo()\n",
    "    bmpstr = bitmap.GetBitmapBits(True)\n",
    "    img = np.frombuffer(bmpstr, dtype=np.uint8).reshape((bmpinfo[\"bmHeight\"], bmpinfo[\"bmWidth\"], 4))\n",
    "    img = np.ascontiguousarray(img)[..., :-1]  # make image C_CONTIGUOUS and drop alpha channel\n",
    "    if not result:  # result should be 1\n",
    "        win32gui.DeleteObject(bitmap.GetHandle())\n",
    "        save_dc.DeleteDC()\n",
    "        mfc_dc.DeleteDC()\n",
    "        win32gui.ReleaseDC(hwnd, hwnd_dc)\n",
    "        raise RuntimeError(f\"Unable to acquire screenshot! Result: {result}\")\n",
    "    cv2.imwrite(img_name, img)\n",
    "    return img,w,h,hwnd"
   ]
  },
  {
   "cell_type": "code",
   "execution_count": 94,
   "metadata": {},
   "outputs": [
    {
     "name": "stdout",
     "output_type": "stream",
     "text": [
      "723436 {'hex': '0xb09ec', 'ClassName': 'ApplicationFrameWindow', 'WindowText': '设置'}\n"
     ]
    }
   ],
   "source": [
    "from cnocr import CnOcr\n",
    "\n",
    "\n",
    "img,w,h,hwnd = capture_win_alt(program_className='ApplicationFrameWindow',program_windowTitle='')\n",
    "\n",
    "ocr = CnOcr() \n",
    "result = ocr.ocr(img)\n",
    "\n",
    "# 具体参数设置参考：https://cnocr.readthedocs.io/zh/latest/usage/\n"
   ]
  },
  {
   "cell_type": "code",
   "execution_count": 96,
   "metadata": {},
   "outputs": [
    {
     "name": "stdout",
     "output_type": "stream",
     "text": [
      "1282 1000\n"
     ]
    }
   ],
   "source": [
    "print(w,h)"
   ]
  },
  {
   "cell_type": "code",
   "execution_count": 97,
   "metadata": {},
   "outputs": [
    {
     "name": "stdout",
     "output_type": "stream",
     "text": [
      "723436 {'hex': '0xb09ec', 'ClassName': 'ApplicationFrameWindow', 'WindowText': '设置'}\n"
     ]
    }
   ],
   "source": [
    "from cnocr import CnOcr\n",
    "\n",
    "ocr = CnOcr()\n",
    "img,x,y,hwnd = capture_win_alt(program_className='ApplicationFrameWindow',program_windowTitle='')\n",
    "\n",
    "step_key = ['时间和语言']\n",
    "text_positions = []\n",
    "for item in ocr.ocr(img):\n",
    "    if item['score'] > 0.9:\n",
    "        if item['text'] in step_key:\n",
    "            temp = {\n",
    "                'text': item['text'],\n",
    "                'position': [\n",
    "                    (item['position'][0][0]+item['position'][2][0])/2, \n",
    "                    (item['position'][0][1]+item['position'][2][1])/2\n",
    "                             ]\n",
    "            }\n",
    "            temp['position'][0] = temp['position'][0] / x\n",
    "            temp['position'][1] = temp['position'][1] / y\n",
    "            text_positions.append(temp)\n"
   ]
  },
  {
   "cell_type": "code",
   "execution_count": 98,
   "metadata": {},
   "outputs": [
    {
     "name": "stdout",
     "output_type": "stream",
     "text": [
      "19 10 1317 1018\n",
      "114 508\n"
     ]
    },
    {
     "data": {
      "text/plain": [
       "0"
      ]
     },
     "execution_count": 98,
     "metadata": {},
     "output_type": "execute_result"
    }
   ],
   "source": [
    "left, top, right, bottom = win32gui.GetWindowRect(hwnd)\n",
    "print(left, top, right, bottom)\n",
    "cy = int(text_positions[0]['position'][1] * (bottom - top) + top)\n",
    "cx = int(text_positions[0]['position'][0] * (right - left) + left)\n",
    "print(cx,cy)\n",
    "long_position = win32api.MAKELONG(cx, cy)#模拟鼠标指针 传送到指定坐标\n",
    "win32api.SendMessage(hwnd, win32con.WM_LBUTTONDOWN, win32con.MK_LBUTTON, long_position)#模拟鼠标按下\n",
    "win32api.SendMessage(hwnd, win32con.WM_LBUTTONUP, win32con.MK_LBUTTON, long_position)#模拟鼠标弹起"
   ]
  },
  {
   "cell_type": "code",
   "execution_count": 91,
   "metadata": {},
   "outputs": [
    {
     "data": {
      "text/plain": [
       "[{'text': '时间和语言', 'position': array([     0.0945,     0.38612])}]"
      ]
     },
     "execution_count": 91,
     "metadata": {},
     "output_type": "execute_result"
    }
   ],
   "source": [
    "text_positions"
   ]
  },
  {
   "cell_type": "code",
   "execution_count": 76,
   "metadata": {},
   "outputs": [
    {
     "data": {
      "text/plain": [
       "[{'text': '时间和语言', 'position': array([      0.094,     0.38612])}]"
      ]
     },
     "execution_count": 76,
     "metadata": {},
     "output_type": "execute_result"
    }
   ],
   "source": [
    "text_positions"
   ]
  }
 ],
 "metadata": {
  "kernelspec": {
   "display_name": "base",
   "language": "python",
   "name": "python3"
  },
  "language_info": {
   "codemirror_mode": {
    "name": "ipython",
    "version": 3
   },
   "file_extension": ".py",
   "mimetype": "text/x-python",
   "name": "python",
   "nbconvert_exporter": "python",
   "pygments_lexer": "ipython3",
   "version": "3.10.13"
  }
 },
 "nbformat": 4,
 "nbformat_minor": 2
}
